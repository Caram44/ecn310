{
 "cells": [
  {
   "cell_type": "markdown",
   "id": "7b9db6a4-c5f3-4142-98e9-3797223f8d5b",
   "metadata": {},
   "source": [
    "### This is a test notebook "
   ]
  },
  {
   "cell_type": "markdown",
   "id": "5b21a325",
   "metadata": {},
   "source": [
    "# Welcome to ECN 310 "
   ]
  },
  {
   "cell_type": "markdown",
   "id": "125e42a5",
   "metadata": {},
   "source": [
    "This is our first introduction to python "
   ]
  },
  {
   "cell_type": "markdown",
   "id": "e341a8a6-6a03-40b3-ac60-d287ca9c279f",
   "metadata": {},
   "source": [
    "# Python data types\n",
    "\n",
    "- numeric: float, int\n",
    "- text: string\n",
    "- sequences: list, tuples, range\n",
    "- mappings: dictionaries\n",
    "- sets\n",
    "\n",
    "\n",
    "\n"
   ]
  },
  {
   "cell_type": "markdown",
   "id": "14f7e22f-f946-462f-9474-80530f824039",
   "metadata": {},
   "source": [
    "## Here is an example of of numeric values"
   ]
  },
  {
   "cell_type": "code",
   "execution_count": null,
   "id": "c4898359-432f-411c-832f-511fc8cb3f92",
   "metadata": {},
   "outputs": [],
   "source": [
    "num_float = 3.14\n",
    "num_int = 42"
   ]
  },
  {
   "cell_type": "markdown",
   "id": "ce5ba61c-c132-4ba6-a8e3-7695bd6db237",
   "metadata": {},
   "source": [
    "in the block below input type(num_float) or type(num_int), then hit shift+enter"
   ]
  },
  {
   "cell_type": "code",
   "execution_count": null,
   "id": "1ca38501-9404-4a99-b6fa-32fe06b0fa50",
   "metadata": {},
   "outputs": [],
   "source": []
  },
  {
   "cell_type": "markdown",
   "id": "1ed166f6-fac0-4620-b5b1-1adf977991a7",
   "metadata": {},
   "source": [
    "maybe you want to change the type of num_int to a float. \n",
    "Input float(num_int)  and hit _shift+enter_ and see the result "
   ]
  },
  {
   "cell_type": "code",
   "execution_count": null,
   "id": "47c7b057-c2fb-457d-a338-1b5f808cd8e5",
   "metadata": {},
   "outputs": [],
   "source": []
  },
  {
   "cell_type": "markdown",
   "id": "ce189049-3992-47d7-9a35-a8edc61d4c4b",
   "metadata": {},
   "source": [
    "Careful, float(num_int) returns num_int as a float, but doesnt change the data type of the actual variable. \n",
    "To change the data type, num_int = float(num_int) or choose a new variable name.  new_float = float(num_int)\n",
    "try that below"
   ]
  },
  {
   "cell_type": "markdown",
   "id": "1f97037b-4cf4-49a4-97a9-b9f46c64d215",
   "metadata": {},
   "source": [
    "## list basics and and tuples (briefly)"
   ]
  },
  {
   "cell_type": "code",
   "execution_count": null,
   "id": "c34de741-d8da-4cd9-9b51-82efd2b77475",
   "metadata": {},
   "outputs": [],
   "source": [
    "example_list = [1, 2, 3, 'kitten']\n",
    "example_list"
   ]
  },
  {
   "cell_type": "code",
   "execution_count": null,
   "id": "cb320688-5971-494a-90f7-a33ef312a3b1",
   "metadata": {},
   "outputs": [],
   "source": [
    "example_list[0]"
   ]
  },
  {
   "cell_type": "code",
   "execution_count": null,
   "id": "e8b364a4-f555-4f05-9d28-a429631bf385",
   "metadata": {},
   "outputs": [],
   "source": [
    "example_list[2]"
   ]
  },
  {
   "cell_type": "code",
   "execution_count": null,
   "id": "d479ec89-dad7-454f-9f53-689c6ca5b622",
   "metadata": {},
   "outputs": [],
   "source": [
    "example_list[-1]"
   ]
  },
  {
   "cell_type": "markdown",
   "id": "8c220489-1c7d-417c-af72-b4ac0461d6bd",
   "metadata": {},
   "source": [
    "## dictionaries "
   ]
  },
  {
   "cell_type": "code",
   "execution_count": null,
   "id": "ced6ab7d-07f3-4447-9717-fd81909ec3f1",
   "metadata": {},
   "outputs": [],
   "source": [
    "states_dict = {'Arizona':18, 'Ohio':3, 'Oregon':2,'Washington':23}"
   ]
  },
  {
   "cell_type": "code",
   "execution_count": null,
   "id": "118d2c08-36e9-4d3f-94e2-d2701c2bd694",
   "metadata": {},
   "outputs": [],
   "source": [
    "states_dict.keys()"
   ]
  },
  {
   "cell_type": "code",
   "execution_count": null,
   "id": "d4dd70a2-ef2b-4b4a-af7f-f3e3889e6100",
   "metadata": {},
   "outputs": [],
   "source": [
    "states_dict['Arizona']"
   ]
  },
  {
   "cell_type": "code",
   "execution_count": null,
   "id": "bed57cd3-ca74-43fa-ac60-95159f988eea",
   "metadata": {},
   "outputs": [],
   "source": [
    "states_dict['Nevada'] = 0\n",
    "states_dict"
   ]
  },
  {
   "cell_type": "markdown",
   "id": "11894950-a036-4508-bd49-c8303b0ba9e5",
   "metadata": {},
   "source": [
    "## sets"
   ]
  },
  {
   "cell_type": "code",
   "execution_count": null,
   "id": "9a7d586d-2ea1-491e-92db-d4cdc14d1c0f",
   "metadata": {},
   "outputs": [],
   "source": [
    "example_list2 = [1, 2, 3, 4, 4, 3, 2, 1, 'Cara', 'Cara']\n",
    "example_list3 = [4, 5, 6, 7, 'Cara', 'McDaniel', 'McDaniel']"
   ]
  },
  {
   "cell_type": "code",
   "execution_count": null,
   "id": "c04f1465-4788-439c-9ebc-3fb8e6800311",
   "metadata": {},
   "outputs": [],
   "source": [
    "set2 = set(example_list2)\n",
    "set2"
   ]
  },
  {
   "cell_type": "code",
   "execution_count": null,
   "id": "23e44727-c861-4b4e-8b27-c35831c6d46a",
   "metadata": {},
   "outputs": [],
   "source": [
    "set3 = set(example_list3)\n",
    "set3"
   ]
  },
  {
   "cell_type": "code",
   "execution_count": null,
   "id": "bd2bebe3-fbe1-41ed-99e6-8c8341a7776f",
   "metadata": {},
   "outputs": [],
   "source": [
    "set2.union(set3)"
   ]
  },
  {
   "cell_type": "code",
   "execution_count": null,
   "id": "ed38ba77-4b4b-4424-bbb6-75fe0905a44e",
   "metadata": {},
   "outputs": [],
   "source": [
    "set2.intersection(set3)"
   ]
  },
  {
   "cell_type": "code",
   "execution_count": null,
   "id": "c539d8c7-c9b2-4310-989e-89e3be7ff544",
   "metadata": {},
   "outputs": [],
   "source": [
    "set2 - set3"
   ]
  },
  {
   "cell_type": "code",
   "execution_count": null,
   "id": "e842fa2e-6b54-4fc1-ae12-71adc5233115",
   "metadata": {},
   "outputs": [],
   "source": [
    "set3 - set2"
   ]
  },
  {
   "cell_type": "markdown",
   "id": "b1e638b3-fb79-402d-bdcc-6d2de43de1af",
   "metadata": {},
   "source": [
    "## functions"
   ]
  },
  {
   "cell_type": "code",
   "execution_count": null,
   "id": "6d58be9a-f486-4cd7-b6e9-e987ac83d490",
   "metadata": {},
   "outputs": [],
   "source": [
    "def diff(x,y):\n",
    "    result = x - y\n",
    "    return result"
   ]
  },
  {
   "cell_type": "code",
   "execution_count": null,
   "id": "af4d6e4d-1001-4c1b-8664-37b85d1df731",
   "metadata": {},
   "outputs": [],
   "source": [
    "diff(4,1)"
   ]
  },
  {
   "cell_type": "markdown",
   "id": "2a4e5a2e-da68-40fc-8023-78ba37c55ea1",
   "metadata": {},
   "source": [
    "loops, classes, methods, maybe?"
   ]
  },
  {
   "cell_type": "code",
   "execution_count": null,
   "id": "e33bd3cc-1a7f-441f-a7c1-e832ce2cfe24",
   "metadata": {},
   "outputs": [],
   "source": []
  }
 ],
 "metadata": {
  "kernelspec": {
   "display_name": "Python 3 (ipykernel)",
   "language": "python",
   "name": "python3"
  },
  "language_info": {
   "codemirror_mode": {
    "name": "ipython",
    "version": 3
   },
   "file_extension": ".py",
   "mimetype": "text/x-python",
   "name": "python",
   "nbconvert_exporter": "python",
   "pygments_lexer": "ipython3",
   "version": "3.9.18"
  }
 },
 "nbformat": 4,
 "nbformat_minor": 5
}

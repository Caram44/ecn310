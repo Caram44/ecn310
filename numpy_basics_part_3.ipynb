{
 "cells": [
  {
   "cell_type": "markdown",
   "id": "fbe6774a-3ee0-44a7-9998-651d4d17f297",
   "metadata": {},
   "source": [
    "# Numpy basics part 3"
   ]
  },
  {
   "cell_type": "markdown",
   "id": "4ea7f708-e38f-40e3-9912-2d53e9074e25",
   "metadata": {},
   "source": [
    "## Prerequisites\n",
    "- Numpy basics part 2"
   ]
  },
  {
   "cell_type": "markdown",
   "id": "9bae1efc-7473-4b44-9ddd-5cd8b8069ee8",
   "metadata": {},
   "source": [
    "## Learning Objectives\n",
    "- Create multi-dimensional numpy arrays\n",
    "- Use in buit in numpy mathematical and statistical functions and methods on multi-dimensional arrays\n",
    "- Perform mathematical operations on two or more multi-dimensional numpy arrys of the same shape"
   ]
  },
  {
   "cell_type": "markdown",
   "id": "e9fb5b1c-63bb-4307-af90-e93e738f8aa9",
   "metadata": {},
   "source": [
    "## References\n",
    "- https://wesmckinney.com/book/numpy-basics"
   ]
  },
  {
   "cell_type": "code",
   "execution_count": 1,
   "id": "99d011c5-8e13-46e4-ba9b-765c2468ba18",
   "metadata": {},
   "outputs": [],
   "source": [
    "# Execute this code block to import numpy\n",
    "import numpy as np"
   ]
  },
  {
   "cell_type": "markdown",
   "id": "b697585d-d3f6-4fcf-a159-f4079ca12f23",
   "metadata": {},
   "source": [
    "### Basic mathematical operations with 1-dimensional arrays"
   ]
  },
  {
   "cell_type": "code",
   "execution_count": 2,
   "id": "37a81c5e-87cc-4829-b9c9-6e8440f4b8d0",
   "metadata": {},
   "outputs": [],
   "source": [
    "# run this codeblock\n",
    "# Suppose 10 students take an exam and the scores are stored in the array below\n",
    "scores = np.array([85.72, 71.22, 64.48, 86.31, 92.11, 47.82, 63.37, 78.5 , 79.72, 80.55])\n",
    "# Suppose the same 10 students take a second exam and the scores are stored in the array scores_2\n",
    "scores2 = np.array([83.15, 88.43, 58.45, 84.22, 98.10, 38.21, 62.45, 81.72, 79.55, 84.38])\n",
    "# Also suppose than only five students choose to take the final exam and the scores are stored in scores_final\n",
    "scores_final = np.array([75.12, 91.34, 100, 65.14, 55.88])"
   ]
  },
  {
   "cell_type": "code",
   "execution_count": null,
   "id": "04593f51-6f80-438a-af80-b59ac44ab5a2",
   "metadata": {},
   "outputs": [],
   "source": []
  },
  {
   "cell_type": "markdown",
   "id": "f5220a31-57bc-4205-bad7-a2d4d9e9e14d",
   "metadata": {},
   "source": [
    "### Working with multi-dimensional arrays"
   ]
  },
  {
   "cell_type": "markdown",
   "id": "5e5cf7b5-d854-4c91-9813-dea48274c02a",
   "metadata": {},
   "source": [
    "#### Create multi-dimensional arrays\n",
    "- You can now create a two dimensional array, with both rows and columns, to to store the scores of both exams 1 and 2\n",
    "- np.array([_arrayname1_, _arrayname2_]) will create a new array what has the same number of columns as arrayname1 and arrayname2 and two rows\n",
    "- in the codeblock below, create the array called _exams_ with the first containing scores and the second row containing scores2.\n",
    "  - exams = np.array([scores, scores2]) will create the the array.\n",
    "  - Notice since the array scores_final only has 5 columns, you will get an error if you try to create np.array([scores, scores2, scores_final]).\n",
    "  - _arrayname_.shape returns the shape of _arrayname_.  Check the shapes of arrays to understand why you receive errors\n",
    " "
   ]
  },
  {
   "cell_type": "code",
   "execution_count": 3,
   "id": "036a2d76-2365-4e0b-8025-0648988da8e8",
   "metadata": {},
   "outputs": [],
   "source": [
    "exams = np.array([scores, scores2])"
   ]
  },
  {
   "cell_type": "markdown",
   "id": "320ea790-a4af-4327-93e8-8e6fbaa397bc",
   "metadata": {},
   "source": [
    "#### Transposing multi-dimensional arrays\n",
    "- To transpose the rows and columns of the array _exams_ the code exams.transpose() returns an array with the columns equal to the rows of _exams_ and rows equal to the columns.\n",
    "    -  If you want to redefine _exams_ this way, you need to redefine exams or create a new variable\n",
    "- Experiment transposing the array _exams_ in the code block below  "
   ]
  },
  {
   "cell_type": "code",
   "execution_count": null,
   "id": "ab5543ed-ec26-4df4-bb84-883c62977507",
   "metadata": {},
   "outputs": [],
   "source": []
  },
  {
   "cell_type": "markdown",
   "id": "211851e3-2edc-40d2-af34-e53745c8874b",
   "metadata": {},
   "source": [
    "#### Mathematical operations on multi-dimensional arrays with scalars\n",
    "- As with one dimensional arrays, you can add a scalar to _every element_ of the array\n",
    "- The code _arrayname_ + _scalar_ returns an array with _scalar_ added to every element of _arrayname_, both in rows and columns\n",
    "- You can add '+', subtract, '-', multiply '*', divide '/' or raise to the power '**' any scalar\n",
    "- Experiment with the array _exams_ in the code block below."
   ]
  },
  {
   "cell_type": "code",
   "execution_count": null,
   "id": "309a3b49-bc07-4da4-b316-458c1d2a44b6",
   "metadata": {},
   "outputs": [],
   "source": []
  },
  {
   "cell_type": "markdown",
   "id": "ef3b8a82-3462-480d-86aa-0083210d8490",
   "metadata": {},
   "source": [
    "#### Mathematical and statistical methods on multi-dimensional arrays\n",
    "- The mathematical and statistical methods we used on one-dimensional arrays also work on multi-dimensions. If we do not specify rows or columns, the methods _sum(), min(), max(), mean(), var(), and std()_ treat the entire array as one-dimensional.\n",
    "    - _arrayname_.max() or np.max(_arrayname_) returns the largest value in the entire array and _arrayname_.min() or np.min(_arrayname_) returns the smallest value\n",
    "- experiment with using the the function methods above on the array _exams_ in the codeblock below "
   ]
  },
  {
   "cell_type": "code",
   "execution_count": null,
   "id": "057371df-f847-4646-8df9-ffe2301e6108",
   "metadata": {},
   "outputs": [],
   "source": []
  },
  {
   "cell_type": "markdown",
   "id": "8904b4d9-5758-41d3-961f-54357ec0e49e",
   "metadata": {},
   "source": [
    "#### Methods over rows and columns\n",
    "- Perform mathematical or statistical methods over axes, meaning rows or columns\n",
    "- The column axis is indexed with a '0' and the row axis indexed with a '1'\n",
    "  - np.sum(_arrayname_, axis=0) or _arrayname_.sum(0) or _arrayname_.sum(0,) returns an array with the sum of values in each column of _arrayname_\n",
    "    - If the shape of _arrayname_ is (2, 10) np.sum(_arrayname_, axis=0) will have 10 elements\n",
    "  - np.sum(_arrayname_, axis=1) or _arrayname_.sum(1) or _arrayname_.sum(1,) returns an array with the sum of all the values in each row of _arrayname_\n",
    "    - If the shape of _arrayname_ is (2, 10) np.sum(_arrayname_, axis=1) will have 2 elements\n",
    "- Experiment with the functions or methods _sum(), min(), max(), mean(), var(), and std()_ on the rows and columns of the array _exams_\n",
    "   - As with one-dimensional arrays, np.var(_arrayname_, axis=1) returns the population variance and  np.var(_array_name_, axis=1, ddof=1) returns the _sample variance_."
   ]
  },
  {
   "cell_type": "code",
   "execution_count": null,
   "id": "bd650ea3-da76-4034-be5a-472c263b06f6",
   "metadata": {},
   "outputs": [],
   "source": []
  },
  {
   "cell_type": "markdown",
   "id": "082fd979-1853-4922-a18e-4acb158f491b",
   "metadata": {},
   "source": [
    "#### Covariance and Correlation and multi-dimensional arrays\n",
    "- You can use numpy function np.cov() and np.corrcoef() on multidimensional arrays. However the Pandas package works much better for our purposes, so we leave this as an advanced topic"
   ]
  },
  {
   "cell_type": "markdown",
   "id": "14126539-4bdd-4cac-86a2-8fdb45408977",
   "metadata": {},
   "source": [
    "#### Mathematical operations on two multi-dimensinal arrays\n",
    "- Perform mathematical operations on two multi-dimensinal arrays\n",
    "- The code block below creates sample arrays"
   ]
  },
  {
   "cell_type": "code",
   "execution_count": 4,
   "id": "32a3511b-c200-4505-b54b-1488f8208182",
   "metadata": {},
   "outputs": [],
   "source": [
    "# Run this code block to create arrays 1-4\n",
    "# array 1 and  and array 2have the same shape (3,4)\n",
    "array1 = np.array([[1, 2, 3, 4], [5, 6, 7, 8], [9, 10, 11, 12]])\n",
    "array2 = np.array([[13, 14, 15, 16], [17, 18, 19, 20], [21, 22, 23, 24]])\n",
    "array3 = np.array([[4, 5, 6], [7, 8, 9]])\n",
    "array4 = np.array([10, 11, 12, 13])\n",
    "array5 = np.array([[14, 15, 16, 17], [18, 19, 20, 21]])"
   ]
  },
  {
   "cell_type": "markdown",
   "id": "ef37b0e3-7f6c-4779-8977-d0ebaf959d63",
   "metadata": {},
   "source": [
    "- mathematical operations '+', '-', '*', '/' , '**' one two arrays othe same size are element-wise, meaning the operation is performed on the elements in the same location\n",
    "- array1 + array2 will return an array with the first row and 1st column equal to 1+13, the first row and second column equal to 2+14, and so on.\n",
    "  - In the code block below, try out mathematical operations of _array1_ and _array2_ \n",
    "- array4 has the same number of columns a array1 and 2, but only 1 row.  Mathematical operations of multi-dimensional arrays and one-dimensional arrays with the same number of columns are element-by-element for every row the the multi-dimensional array.\n",
    "  - Try out mathematical operations of array1 and array4 in the code block below\n",
    "-  array3 and array5 have different shapes than array1 and array2.  Verify that you receive errors when performing mathematical operations on array1 and array3 and array1 and array5 "
   ]
  },
  {
   "cell_type": "code",
   "execution_count": null,
   "id": "e526e581-b8c2-42bc-86a9-3086b2c4b075",
   "metadata": {},
   "outputs": [],
   "source": []
  },
  {
   "cell_type": "markdown",
   "id": "d4013dee-42b7-42fc-92fe-8d7c82eb676a",
   "metadata": {},
   "source": [
    "### Up next: Pandas\n",
    "There is way more to numpy that we will cover in this class. When working with tabular data, the python package Pandas is superior.  However, we will still work with arrays and use numpy functions and methods. "
   ]
  }
 ],
 "metadata": {
  "kernelspec": {
   "display_name": "Python 3 (ipykernel)",
   "language": "python",
   "name": "python3"
  },
  "language_info": {
   "codemirror_mode": {
    "name": "ipython",
    "version": 3
   },
   "file_extension": ".py",
   "mimetype": "text/x-python",
   "name": "python",
   "nbconvert_exporter": "python",
   "pygments_lexer": "ipython3",
   "version": "3.9.18"
  }
 },
 "nbformat": 4,
 "nbformat_minor": 5
}

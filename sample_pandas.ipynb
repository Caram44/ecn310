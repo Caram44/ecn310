{
 "cells": [
  {
   "cell_type": "markdown",
   "id": "b69edc92-1137-46b4-9c05-c07607def181",
   "metadata": {},
   "source": [
    "## import the pandas module, we will want both pandas and numpy"
   ]
  },
  {
   "cell_type": "code",
   "execution_count": null,
   "id": "4fcf3b85-a6d7-4292-ad97-bbf2086efd6f",
   "metadata": {},
   "outputs": [],
   "source": [
    "import pandas as pd\n",
    "import numpy as np"
   ]
  },
  {
   "cell_type": "markdown",
   "id": "879090ef-3da6-4bc6-ab47-6851a59866af",
   "metadata": {},
   "source": [
    "## We can read csv files, tab files, excel files and all sorts of things"
   ]
  },
  {
   "cell_type": "code",
   "execution_count": null,
   "id": "0dc2bc18-6d50-4829-9056-395dee7cd15d",
   "metadata": {},
   "outputs": [],
   "source": [
    "house_df = pd.read_csv('house_price_sample.csv')"
   ]
  },
  {
   "cell_type": "code",
   "execution_count": null,
   "id": "9bd81878-142c-445e-8955-5a0a2290e3c2",
   "metadata": {},
   "outputs": [],
   "source": [
    "house_df.info()"
   ]
  },
  {
   "cell_type": "markdown",
   "id": "17ea3f10-9143-4021-95c8-84227ba6e6ae",
   "metadata": {},
   "source": [
    "## Descriptive Statistics"
   ]
  },
  {
   "cell_type": "markdown",
   "id": "233c5012-481e-454d-9c89-d6c536e4395d",
   "metadata": {},
   "source": [
    "notice how renovated is not include because it is yes/no and an object"
   ]
  },
  {
   "cell_type": "code",
   "execution_count": null,
   "id": "7d5688d9-28f4-4a7c-a778-bda56206a00d",
   "metadata": {
    "scrolled": true
   },
   "outputs": [],
   "source": [
    "house_df.describe()"
   ]
  },
  {
   "cell_type": "markdown",
   "id": "78a023f5-4e39-45d8-89bd-5bb2be0ea7bd",
   "metadata": {},
   "source": [
    "## Wrangling and cleaning "
   ]
  },
  {
   "cell_type": "markdown",
   "id": "531e6f5f-0538-449b-b25b-930ca5765848",
   "metadata": {},
   "source": [
    "examples from McKinney"
   ]
  },
  {
   "cell_type": "markdown",
   "id": "499a29d2-c07b-473b-bcf1-e9597fe113cf",
   "metadata": {},
   "source": [
    "### See how easy it is to make a dummy variable"
   ]
  },
  {
   "cell_type": "code",
   "execution_count": null,
   "id": "c3b0f8d5-21c6-4654-86b8-fb154c2a5716",
   "metadata": {},
   "outputs": [],
   "source": [
    "# This will create a dummy variable for renovated\n",
    "dummies = pd.get_dummies(house_df['renovated'], prefix='renovated', drop_first=True, dtype=int)\n",
    "# The output is a series with the same index as house_df\n",
    "# now we want to replace renovated in the house_df with the dummy variable column\n",
    "dummies\n",
    "# if you want to learn more about how a function or method works, follow with '?'\n",
    "# for example pd.get_dummies? will return the manual on the method"
   ]
  },
  {
   "cell_type": "markdown",
   "id": "3c3966ac-2d23-4052-996e-36bbba3dffb4",
   "metadata": {},
   "source": [
    "now relace the renovated column with teh dummy variable column"
   ]
  },
  {
   "cell_type": "code",
   "execution_count": null,
   "id": "93b8c0fd-ce61-4a3e-a488-4344d584ddfd",
   "metadata": {},
   "outputs": [],
   "source": [
    "house_df_dummies = pd.concat([house_df, dummies], axis=1).drop('renovated', axis=1)"
   ]
  },
  {
   "cell_type": "code",
   "execution_count": null,
   "id": "f2419a9f-8fff-4034-bb27-0f2d3916d23b",
   "metadata": {},
   "outputs": [],
   "source": [
    "house_df_dummies"
   ]
  },
  {
   "cell_type": "markdown",
   "id": "8921be17-f6e8-49d5-b919-25513bd2e8e3",
   "metadata": {},
   "source": [
    "write to file"
   ]
  },
  {
   "cell_type": "code",
   "execution_count": null,
   "id": "f60500b6-73f8-43e5-a75a-9e54a69b9d88",
   "metadata": {},
   "outputs": [],
   "source": [
    "house_df_dummies.to_csv('house_df_dummies.csv', index=False)\n",
    "# note we don't want to save the index column"
   ]
  },
  {
   "cell_type": "code",
   "execution_count": null,
   "id": "0cb9a6a5-4a35-4066-89e5-49ade120e0c7",
   "metadata": {},
   "outputs": [],
   "source": []
  }
 ],
 "metadata": {
  "kernelspec": {
   "display_name": "Python 3 (ipykernel)",
   "language": "python",
   "name": "python3"
  },
  "language_info": {
   "codemirror_mode": {
    "name": "ipython",
    "version": 3
   },
   "file_extension": ".py",
   "mimetype": "text/x-python",
   "name": "python",
   "nbconvert_exporter": "python",
   "pygments_lexer": "ipython3",
   "version": "3.9.18"
  }
 },
 "nbformat": 4,
 "nbformat_minor": 5
}

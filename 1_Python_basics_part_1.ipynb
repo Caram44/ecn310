{
 "cells": [
  {
   "cell_type": "markdown",
   "id": "5b21a325",
   "metadata": {},
   "source": [
    "# Python basics, part 1 "
   ]
  },
  {
   "cell_type": "markdown",
   "id": "40d12c78-8311-44c7-aa18-a92e1acab172",
   "metadata": {},
   "source": [
    "## Prerequisites\n",
    "- None"
   ]
  },
  {
   "cell_type": "markdown",
   "id": "6e6af759-a055-4ad8-b77b-3c7a17763016",
   "metadata": {},
   "source": [
    "## Learning objectives\n",
    "- Use basic mathematical operations of addition, substraction, multiplation, division and exponents\n",
    "- Create and store numeric and text variables\n",
    "- Differentiate variable types of float, integer, string, and boolean\n",
    "- Round numeric float variables \n",
    "- Add comments to code\n",
    "- Use the print function"
   ]
  },
  {
   "cell_type": "markdown",
   "id": "26edb8c9-ce62-4617-a5ad-9d697c8f0c1a",
   "metadata": {},
   "source": [
    "## References\n",
    "- https://docs.python.org/3/tutorial/introduction "
   ]
  },
  {
   "cell_type": "markdown",
   "id": "c9a5e0be-dbab-471c-86c6-6e844cf3a456",
   "metadata": {},
   "source": [
    "### Using the Jupyter notebook\n",
    "- Jupyter notebooks allow you to create independed cells of markdown text (like this cell), raw, text, or code\n",
    "- You can add cells by clicking the icons in the top right of an existing cell\n",
    "- The default type is \"code\"\n",
    "- Create a code block below this one by pressing the icon with the '+' under the rectangle.\n",
    "- You can delete it my pressing the trash icon. Carelful! undo doesn't always work well.\n",
    "- Notice Pressing RETURN starts a new line of code in the block. Pressing SHIFT and RETURN (or ENTER, depending on your keyboard) at the same time executes the code in the block. \n",
    "- For the rest of the class when you are instructed to __run__ or __execute__ the code in the code block, press SHIFT and RETURN at the same time. You can all click the button on the menu with the sigle arrow (looks like a 'play' symbol)\n",
    "  - All the lines in the block are executed, but only the last line prints in the output cell below the code block. \n",
    "- If you want to run all the code in all the codeblocks in the notebook, press the double arrow button.  This will restart the 'kernel' and run everething.   \n",
    "- If the code is not behaving like you expect, try pressing the double arrow button above or 'restart kernel and clear output of cells' under the kernal menu.\n",
    "- If you want to start again, save this notebook as something else (if you want to keep it) and redownload the original notebook"
   ]
  },
  {
   "cell_type": "markdown",
   "id": "8224c6f9-1213-45dd-9456-8d1c33553ba6",
   "metadata": {},
   "source": [
    "### Use Python like a calculator"
   ]
  },
  {
   "cell_type": "markdown",
   "id": "f6d6d431-ebfe-4939-95b0-57ecd0f91c89",
   "metadata": {},
   "source": [
    "#### Addition and subtraction\n",
    "In the grey code block below, experiment with addition, subtraction.\n",
    "- use the '+' symbol for addition and '-' for subtraction\n",
    "  - Input 2+5 and then run the code\n",
    "  - play around with other numbers, including decimals and negative numbers "
   ]
  },
  {
   "cell_type": "code",
   "execution_count": null,
   "id": "03ce1200-e090-42bd-b787-9d448936c2fb",
   "metadata": {},
   "outputs": [],
   "source": []
  },
  {
   "cell_type": "markdown",
   "id": "e37c7473-e7f3-41c6-a25e-09bf59ce330a",
   "metadata": {},
   "source": [
    "__Multiplication and division__\n",
    "- use '*' for multiplication, '/' for divide\n",
    "  - try 2*7 and 2/7\n",
    "- notice how the output includes decimal when you divide two numbers or start with a decimal\n",
    "  - try 3*2 and 1.5 *2"
   ]
  },
  {
   "cell_type": "code",
   "execution_count": null,
   "id": "6c373efe-66c1-4f50-9afe-a07b33693e9c",
   "metadata": {},
   "outputs": [],
   "source": []
  },
  {
   "cell_type": "markdown",
   "id": "b2921bf2-a3fb-4d30-ac2e-d68525d956cf",
   "metadata": {},
   "source": [
    "__Use  '(' and ')' brackets for numeric operations__\n",
    "- Try (2+5)/3 and (5+1)/(6+2) - 1\n",
    "   - We'll see brackets used in other ways, but here they are used for traditional order of operations;\n"
   ]
  },
  {
   "cell_type": "code",
   "execution_count": null,
   "id": "2971a28a-2acb-4ea1-b828-1e29bfe52f19",
   "metadata": {},
   "outputs": [],
   "source": []
  },
  {
   "cell_type": "markdown",
   "id": "5b28df0b-50ac-4a09-a968-30372a8d168e",
   "metadata": {},
   "source": [
    "__Raise a numeric value to a power__ \n",
    "- use ** to raise a value to a power\n",
    " - 4 squared is _4 ** 2_ and the square root of _4 is 4 ** 0.5_ or _4 ** (1/2)_\n",
    " - Try using ** in the codeblock below and verify with a handheld calculator"
   ]
  },
  {
   "cell_type": "code",
   "execution_count": null,
   "id": "f6736c17-a79a-496e-8a18-97a3a7c3652f",
   "metadata": {},
   "outputs": [],
   "source": []
  },
  {
   "cell_type": "markdown",
   "id": "3e777b0a-3399-47ee-8a09-7503ee8ab6e4",
   "metadata": {},
   "source": [
    "__Experiment with order of operations__\n",
    "- Experiment with brackets and numerical operations\n",
    "    - try things like (6-3)**2/2 -1 _you should get an answer of 3.5_ Try others and compare with your handheld calculator\n"
   ]
  },
  {
   "cell_type": "code",
   "execution_count": null,
   "id": "10e7320a-5c85-4d65-b08e-3dc761793e0f",
   "metadata": {},
   "outputs": [],
   "source": []
  },
  {
   "cell_type": "markdown",
   "id": "6eb5d68a-9e5b-479e-bc3c-d345e3d6913e",
   "metadata": {},
   "source": [
    "### Creating variables ### \n"
   ]
  },
  {
   "cell_type": "markdown",
   "id": "1122a68c-3ea8-47e4-862a-1c4f443d5171",
   "metadata": {},
   "source": [
    "- The equal sign (=) is used to assign a value to a variable.\n",
    "    - Afterwards, no result is displayed after you excute the code\n",
    "- Below is an example of a variable called width.  Run the code below.\n",
    "    - if you want to see the value for width, type 'width' under width = 10 or create a new code block and type 'width' and run the code"
   ]
  },
  {
   "cell_type": "code",
   "execution_count": 1,
   "id": "639a349c-51d2-43a3-b76c-feb52fed1dc4",
   "metadata": {},
   "outputs": [],
   "source": [
    "width = 10"
   ]
  },
  {
   "cell_type": "markdown",
   "id": "c26d7864-64b3-4ce2-8d13-5ea16513f17b",
   "metadata": {},
   "source": [
    "- You can define several variables in one code block\n",
    "- You can create variables that are functions of other variables\n",
    "- run the code in the block below"
   ]
  },
  {
   "cell_type": "code",
   "execution_count": 2,
   "id": "3d7a5c3c-d0e3-4d9b-affa-557d8768869f",
   "metadata": {},
   "outputs": [],
   "source": [
    "height = 12\n",
    "depth = 4\n",
    "area = height * width\n",
    "volume = area * depth \n",
    "check = volume - area*height*depth "
   ]
  },
  {
   "cell_type": "markdown",
   "id": "33f66478-130c-45d4-9a0d-5d6dbb7aeb06",
   "metadata": {},
   "source": [
    "- In the code block below, enter any of the variable names above and run the code\n",
    " - Choose new values for width, height, depth and see how area and volume change.  _Be sure to re-run the code for width if you change the value_ "
   ]
  },
  {
   "cell_type": "code",
   "execution_count": null,
   "id": "f133a753-9ad4-4a53-88fc-2595f7eea1b5",
   "metadata": {},
   "outputs": [],
   "source": []
  },
  {
   "cell_type": "markdown",
   "id": "22cbfa1f-669a-4672-8d7d-131ce9b6f2e0",
   "metadata": {},
   "source": [
    "- Experiment with creating variables and formulas in the code block below\n",
    "    - view the value of a variable by adding a new code block and typing the variable and running the code or entering the variable name as the last line before running the code"
   ]
  },
  {
   "cell_type": "code",
   "execution_count": null,
   "id": "66960017-0230-4f42-9e0e-98cc4e95455f",
   "metadata": {},
   "outputs": [],
   "source": []
  },
  {
   "cell_type": "markdown",
   "id": "14f7e22f-f946-462f-9474-80530f824039",
   "metadata": {},
   "source": [
    "### Variable types: int and  floats"
   ]
  },
  {
   "cell_type": "markdown",
   "id": "cbd72fa4-d2b1-4b56-b273-5daecd52f5a6",
   "metadata": {},
   "source": [
    "- Integer numeric types have no decimal. Python returns 'int' for integer types.\n",
    "- Float numeric types include at least one decimal, which could be a zero.\n",
    "- Execute the code block below by pressing SHIFT + ENTER "
   ]
  },
  {
   "cell_type": "code",
   "execution_count": 3,
   "id": "c4898359-432f-411c-832f-511fc8cb3f92",
   "metadata": {},
   "outputs": [],
   "source": [
    "num_int = 42\n",
    "num_float = 3.14\n"
   ]
  },
  {
   "cell_type": "markdown",
   "id": "ce5ba61c-c132-4ba6-a8e3-7695bd6db237",
   "metadata": {},
   "source": [
    "- in the block below input type(num_float) or type(num_int) and run the code"
   ]
  },
  {
   "cell_type": "code",
   "execution_count": null,
   "id": "1ca38501-9404-4a99-b6fa-32fe06b0fa50",
   "metadata": {},
   "outputs": [],
   "source": []
  },
  {
   "cell_type": "markdown",
   "id": "1ed166f6-fac0-4620-b5b1-1adf977991a7",
   "metadata": {},
   "source": [
    "- change the type of num_int to a float. Input float(num_int)  and run the code"
   ]
  },
  {
   "cell_type": "code",
   "execution_count": null,
   "id": "47c7b057-c2fb-457d-a338-1b5f808cd8e5",
   "metadata": {},
   "outputs": [],
   "source": []
  },
  {
   "cell_type": "markdown",
   "id": "ce189049-3992-47d7-9a35-a8edc61d4c4b",
   "metadata": {},
   "source": [
    "- Careful, float(num_int) returns num_int as a float, but doesnt change the data type of the actual variable. \n",
    "To change the data type, num_int = float(num_int) or choose a new variable name.  new_float = float(num_int)\n",
    "try that below"
   ]
  },
  {
   "cell_type": "code",
   "execution_count": null,
   "id": "8008622b-a82f-4295-9402-a72ffb31209f",
   "metadata": {},
   "outputs": [],
   "source": []
  },
  {
   "cell_type": "markdown",
   "id": "59182872-b23f-4fa6-9dae-53fe8c4d79d0",
   "metadata": {},
   "source": [
    "- Adding, subtracting, and multiplying integers returns another integer.\n",
    "- Division always returns a float.\n",
    "- Experiement with  creating new variables and variable types below"
   ]
  },
  {
   "cell_type": "code",
   "execution_count": null,
   "id": "5244d9ce-064b-460f-8ff9-d815fc291fae",
   "metadata": {},
   "outputs": [],
   "source": []
  },
  {
   "cell_type": "markdown",
   "id": "b75ff76a-3e76-482e-abc1-a9a1655282eb",
   "metadata": {},
   "source": [
    "### Use the round() function"
   ]
  },
  {
   "cell_type": "markdown",
   "id": "a5f340f4-5702-4288-bdde-d1b9d4bad528",
   "metadata": {},
   "source": [
    "- Python includes the built in function \"round\" that will round floats to your desired decimal places\n",
    "- Execute the code block below to show the value for the variable \"z\""
   ]
  },
  {
   "cell_type": "code",
   "execution_count": 4,
   "id": "00ef9f67-535f-44d3-a369-cf974e73fc16",
   "metadata": {},
   "outputs": [
    {
     "data": {
      "text/plain": [
       "3.6666666666666665"
      ]
     },
     "execution_count": 4,
     "metadata": {},
     "output_type": "execute_result"
    }
   ],
   "source": [
    "z = 11/3\n",
    "z"
   ]
  },
  {
   "cell_type": "markdown",
   "id": "7b7b32a4-84bd-48b1-9ac2-933481ce6ed6",
   "metadata": {},
   "source": [
    "- round(z) returns the value for z rounded to the nearest integer\n",
    "- round(z, 2) returns z rounded to 2 decimal places\n",
    "- round(z, 4) returns z rounded to 4 decimal places, and so on.\n",
    "- Try rounding z below.\n",
    "    - Notice that round(z, n) returns z rounded to n decimal places, but does not redefine the value for z.  If you want to save the variable z rounded to two decimal places, you need to create a new variable z_rounded = round(z, 2) or redefine z as z = round(z, 2)"
   ]
  },
  {
   "cell_type": "code",
   "execution_count": null,
   "id": "3de57e09-daee-4ba2-94ff-4e9c5f8bf20c",
   "metadata": {},
   "outputs": [],
   "source": []
  },
  {
   "cell_type": "markdown",
   "id": "bde802b1-7e35-4ac7-86aa-88fcc2cf1e24",
   "metadata": {},
   "source": [
    "### Variable types: strings"
   ]
  },
  {
   "cell_type": "markdown",
   "id": "49457b6c-3cd1-4858-a585-416f2e7f032e",
   "metadata": {},
   "source": [
    "- Variables that consist of text are strings\n",
    " - Python returns 'str' if the variable is text\n",
    "- Understanding how python handles strings is very useful when we get to working with actual data as some important variables are reported as strings and column and row names may also be string\n",
    "- enter type(str_var) below str_var in the code block below and excute the code "
   ]
  },
  {
   "cell_type": "code",
   "execution_count": 5,
   "id": "41c02300-f270-4b8c-a0fc-2e76d99dc742",
   "metadata": {},
   "outputs": [],
   "source": [
    "str_var = 'This is a string'"
   ]
  },
  {
   "cell_type": "markdown",
   "id": "2e8dce0a-c16b-43c6-b736-2cdeeb8bf8dd",
   "metadata": {},
   "source": [
    "- You can change numbers that are represented as strings, like '42' to integers or floats\n",
    "- Strings that have non-numeric elements cannot be converted to numeric types\n",
    "    - float(text_num) returns text_num to a float and int(text_num) returns text_num to an integer. Try this in the code block below\n",
    "    - Note that the variable text_num remains unchanged unless you define a new varable: text_num_converted = float(text_num) or redefine text_num: text_num = float(text_num)"
   ]
  },
  {
   "cell_type": "code",
   "execution_count": 6,
   "id": "f1bd68c1-6eff-44ed-8639-dd3e8a441cbe",
   "metadata": {},
   "outputs": [],
   "source": [
    "text_num = '42'"
   ]
  },
  {
   "cell_type": "markdown",
   "id": "b8423f3e-e2ba-4b3b-a376-f6c5c9bfdbd9",
   "metadata": {},
   "source": [
    "- You can change numeric types of floats and itegers to strings\n",
    "- Try converting num_text to a string by entering str(num_text) in the codeblock below num_text "
   ]
  },
  {
   "cell_type": "code",
   "execution_count": 7,
   "id": "acb9431a-9839-4d8c-9185-65a0bf3ed290",
   "metadata": {},
   "outputs": [],
   "source": [
    "num_text = 78.5"
   ]
  },
  {
   "cell_type": "markdown",
   "id": "10b54c07-6cb2-420c-a1e8-ee9f24f323b8",
   "metadata": {},
   "source": [
    "- You cannot convert a string that includes non-numeric characters to a float or integer\n",
    "- Try entering float(combo) in the codeblock below combo, you should see an error"
   ]
  },
  {
   "cell_type": "code",
   "execution_count": 8,
   "id": "2bb86fb5-5974-4628-a31e-3f53950ca22f",
   "metadata": {},
   "outputs": [],
   "source": [
    "combo = 'Cara44'"
   ]
  },
  {
   "cell_type": "markdown",
   "id": "8b0a8aa3-0a65-4ead-969a-da8c8979ce54",
   "metadata": {},
   "source": [
    "### Variable types: boolean"
   ]
  },
  {
   "cell_type": "markdown",
   "id": "4bf140bb-48ec-42b8-a1bc-5a1f906ccc5b",
   "metadata": {},
   "source": [
    "- Often you will want to select variables based on their values or run tests\n",
    "- boolean variables are either 'True' or 'False'\n",
    " - enter type(true_bool) below true_bool in the code block and run the code"
   ]
  },
  {
   "cell_type": "code",
   "execution_count": 9,
   "id": "4233b62c-4de5-49c2-8b3c-4baaa28c0848",
   "metadata": {},
   "outputs": [],
   "source": [
    "true_bool = True"
   ]
  },
  {
   "cell_type": "markdown",
   "id": "c35403bf-ccdb-48e2-b632-5767b7255374",
   "metadata": {},
   "source": [
    "- to test if a variable is equal to a value use '=='\n",
    "- type val === 3 below val = 3 and run the code below\n",
    "- try again with val==4"
   ]
  },
  {
   "cell_type": "code",
   "execution_count": 10,
   "id": "22a8bc80-4ca6-49cf-b8c1-18e0e358557f",
   "metadata": {},
   "outputs": [],
   "source": [
    "val = 3.0"
   ]
  },
  {
   "cell_type": "markdown",
   "id": "33feb41a-3ea5-43cd-b654-dc7d7a3ab49d",
   "metadata": {},
   "source": [
    "- Test if variables are\n",
    "    - greater than '>'\n",
    "    - greater than or equal to '=>'\n",
    "    - less than '<'\n",
    "    - less than or equal to '<='\n",
    "In the code block below, create a variable test_val and experiement with tests"
   ]
  },
  {
   "cell_type": "code",
   "execution_count": null,
   "id": "f90ad806-289a-476e-9ca0-59d0928ccc2c",
   "metadata": {},
   "outputs": [],
   "source": []
  },
  {
   "cell_type": "markdown",
   "id": "fcf2a35b-15d7-4d38-97be-8ec9daab95d4",
   "metadata": {},
   "source": [
    "### Add comments to code"
   ]
  },
  {
   "cell_type": "markdown",
   "id": "b0c9f2fd-8f96-4b6f-8fcb-be2ff995a267",
   "metadata": {},
   "source": [
    "- In the future, you will write many lines of code in a signle block in a notebook like this one or in a separate .py file\n",
    "- You will want to explain your code to yourself and others using comments or \"comment out\" variables you don't want to use. \n",
    " - Anything in python preceeded by '#' will be ignored an not executed.\n",
    "- Run the code below and notice how the comments are ignored. "
   ]
  },
  {
   "cell_type": "code",
   "execution_count": 1,
   "id": "4e72896f-c39d-48cd-8356-fc1c30b97dce",
   "metadata": {},
   "outputs": [],
   "source": [
    "# Here are some comments \n",
    "# I can use these to explain why I want to calculate the value of q = a**2 + b**2 or provide directions\n",
    "a = 4\n",
    "b = 3\n",
    "q = a**2 + b**3\n",
    "# To find the value of q, type 'q' on the line below and press RETURN + ENTER\n"
   ]
  },
  {
   "cell_type": "markdown",
   "id": "3116b40a-c157-42af-a3b3-20fc8e5b3efa",
   "metadata": {},
   "source": [
    "### Use the print function"
   ]
  },
  {
   "cell_type": "markdown",
   "id": "62711bbe-132f-486d-b5f0-f33626ff87fc",
   "metadata": {},
   "source": [
    "- so far, values for a variable display if theyy are the last (or only) line in codeblock\n",
    "- we can use the print() function to print values regardless of placement\n",
    "- execute the code block below\n",
    "  - Notice that you can create a text variable or print text directly"
   ]
  },
  {
   "cell_type": "code",
   "execution_count": 12,
   "id": "6e337190-d273-4c0a-ae3e-8082dae60abb",
   "metadata": {},
   "outputs": [
    {
     "name": "stdout",
     "output_type": "stream",
     "text": [
      "Here is our value for q\n",
      "43\n",
      "Here is our value for a\n",
      "4\n"
     ]
    }
   ],
   "source": [
    "prompt_a = 'Here is our value for a'\n",
    "print('Here is our value for q')\n",
    "print(q)\n",
    "print(prompt_a)\n",
    "print(a)\n"
   ]
  },
  {
   "cell_type": "markdown",
   "id": "51f14fb4-3b51-4654-aaa5-812041c191e6",
   "metadata": {},
   "source": [
    "### Up next\n",
    "- Next, we will expore python types of lists, tuples, sets, and dictionaries"
   ]
  },
  {
   "cell_type": "code",
   "execution_count": null,
   "id": "107f7abd-1729-435e-8be6-55391146c145",
   "metadata": {},
   "outputs": [],
   "source": []
  },
  {
   "cell_type": "code",
   "execution_count": null,
   "id": "b12067a9-6cd6-40d7-9716-cb90842e35ba",
   "metadata": {},
   "outputs": [],
   "source": []
  }
 ],
 "metadata": {
  "kernelspec": {
   "display_name": "Python 3 (ipykernel)",
   "language": "python",
   "name": "python3"
  },
  "language_info": {
   "codemirror_mode": {
    "name": "ipython",
    "version": 3
   },
   "file_extension": ".py",
   "mimetype": "text/x-python",
   "name": "python",
   "nbconvert_exporter": "python",
   "pygments_lexer": "ipython3",
   "version": "3.9.18"
  }
 },
 "nbformat": 4,
 "nbformat_minor": 5
}

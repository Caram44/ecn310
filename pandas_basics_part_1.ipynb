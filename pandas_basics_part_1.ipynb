{
 "cells": [
  {
   "cell_type": "markdown",
   "id": "b69edc92-1137-46b4-9c05-c07607def181",
   "metadata": {},
   "source": [
    "# Pandas basics part 1 - Series"
   ]
  },
  {
   "cell_type": "markdown",
   "id": "fdf619a4-92e8-4240-877f-2c179f3b587b",
   "metadata": {},
   "source": [
    "## Prerequisites \n",
    "- Python basics parts 1 and 2\n",
    "- Numpy basics parts 1, 2 and 3"
   ]
  },
  {
   "cell_type": "markdown",
   "id": "3eb186e2-5ea7-4cb4-a43f-b07a16802eaa",
   "metadata": {},
   "source": [
    "### References \n",
    "- https://wesmckinney.com/book/pandas-basics"
   ]
  },
  {
   "cell_type": "markdown",
   "id": "1f2b20c9-7dc6-4c4b-8566-0e1faca209b1",
   "metadata": {},
   "source": [
    "## Learning objectives \n",
    "- Create Pandas data series \n",
    "- Perform mathematical operations on pandas series\n",
    "- Create non-numeric pandas series\n",
    "- Select portions of series based on numeric and non-numeric data\n",
    "- Count the num"
   ]
  },
  {
   "cell_type": "markdown",
   "id": "efdcd778-05bb-41c1-be79-184716180ae8",
   "metadata": {},
   "source": [
    "#### Import the Pandas and Numpy modules\n",
    "- When we use Pandas, we almost always use numpy too\n",
    "- import pandas as pd. Every time you create a pandas object or use a bulit in pandas method, you preface with \"pd.\"\n",
    "- import numpy as np. Every time you create a numpy object or use a bulit in numpy method, you preface with \"np.\" "
   ]
  },
  {
   "cell_type": "code",
   "execution_count": 1,
   "id": "4fcf3b85-a6d7-4292-ad97-bbf2086efd6f",
   "metadata": {},
   "outputs": [],
   "source": [
    "# Run this code block to import the pandas and numpy libraries\n",
    "import pandas as pd\n",
    "import numpy as np"
   ]
  },
  {
   "cell_type": "markdown",
   "id": "d59f6e92-969d-4312-b1b5-07646da2c8ea",
   "metadata": {},
   "source": [
    "### Series with numerical values\n",
    "- Pandas series are one-dimensional objects, much like numpy arrays.\n",
    "- Unlike a numpy array, each data point in the series is labeled with a unique _index_ value\n",
    "  - The index could have meaning, like a date time or a name, or it could be numeric.\n",
    "  - The index is of the series is preserved if the series is sorted or slided\n",
    "- Data in a series can be numeric or categorical\n",
    "- Run the code block below to create a series with with an array of five numbers and an unspecified index"
   ]
  },
  {
   "cell_type": "markdown",
   "id": "207e4c8e-a4bf-4d78-b63e-2bef043e21e0",
   "metadata": {},
   "source": [
    "#### Create a series from a list or an array with an auto-generated index\n",
    "- you can create a series from a named list or array or fill in the data like we have done below"
   ]
  },
  {
   "cell_type": "code",
   "execution_count": 2,
   "id": "45863acb-781c-435e-ab96-d152a21e9dad",
   "metadata": {},
   "outputs": [
    {
     "name": "stdout",
     "output_type": "stream",
     "text": [
      "0    13\n",
      "1    42\n",
      "2    40\n",
      "3    25\n",
      "4    18\n",
      "dtype: int64\n"
     ]
    }
   ],
   "source": [
    "# run this code block to create an example series\n",
    "ex_series = pd.Series([13, 42, 40, 25, 18])\n",
    "print(ex_series)"
   ]
  },
  {
   "cell_type": "markdown",
   "id": "aa049b3c-543d-439d-875c-168083da22fd",
   "metadata": {},
   "source": [
    "#### Create a series with a meaninful index\n",
    "- Suppose the series above represents the weekly hours worked of employees at a small coffee shop and the employer would like to index the series by employee last name. _This probably is not a good idea, a unique employee ID would be better, but let's stick with names for this example_\n",
    "- Run the code block below to create an indexed series"
   ]
  },
  {
   "cell_type": "code",
   "execution_count": 3,
   "id": "bfa9330d-78c3-42fb-b717-2ecba7ab3d9e",
   "metadata": {},
   "outputs": [
    {
     "name": "stdout",
     "output_type": "stream",
     "text": [
      "McDaniel    13\n",
      "Tang        42\n",
      "Aucejo      40\n",
      "Manelli     25\n",
      "Townsend    18\n",
      "dtype: int64\n"
     ]
    }
   ],
   "source": [
    "# Run this code to create an indexed series.  You need to put the data first, then the index\n",
    "# you can leave of data= and index=, but it's good practice to include the 'key word' arguments \n",
    "ind_series  = pd.Series(data=[13, 42, 40, 25, 18], index=['McDaniel', 'Tang', 'Aucejo', 'Manelli', 'Townsend'])\n",
    "print(ind_series)"
   ]
  },
  {
   "cell_type": "markdown",
   "id": "428eb17c-d84d-4a0c-9e7f-50bac9deae05",
   "metadata": {},
   "source": [
    "#### Create a seires from a dictionary\n",
    "- You can also create a series from a dictionary.\n",
    "- Run the code block below to create a similar data series (we add one more employee) from a dictionary\n",
    "- Note that pd.Series(emp_dict) returns the series, to store it you have to define variable"
   ]
  },
  {
   "cell_type": "code",
   "execution_count": 4,
   "id": "d7cfecf5-7356-4172-bc6b-4eb3800c7841",
   "metadata": {},
   "outputs": [
    {
     "name": "stdout",
     "output_type": "stream",
     "text": [
      "McDaniel    13.0\n",
      "Tang        42.0\n",
      "Aucejo      40.0\n",
      "Manelli     25.0\n",
      "Townsend    18.0\n",
      "Burns       39.5\n",
      "dtype: float64\n"
     ]
    }
   ],
   "source": [
    "# Run this code block to create both the dictionary and the data series.  \n",
    "emp_dict = {'McDaniel': 13, 'Tang': 42, 'Aucejo': 40, 'Manelli': 25, 'Townsend': 18, 'Burns': 39.5}\n",
    "emp_series = pd.Series(emp_dict)\n",
    "print(emp_series)"
   ]
  },
  {
   "cell_type": "markdown",
   "id": "c6edf0ea-c0d0-426d-8dd7-b4acd0caa3bd",
   "metadata": {},
   "source": [
    "- Notice how including one 'float' in the data changes the series data type from int64 to float64\n",
    "- In the codeblock below, experiment with creating series from lists of data, from numpy arrays, dictionaries and with and with different data types"
   ]
  },
  {
   "cell_type": "code",
   "execution_count": null,
   "id": "60b06cac-975d-4867-bd12-99d7bfa8ad27",
   "metadata": {},
   "outputs": [],
   "source": []
  },
  {
   "cell_type": "markdown",
   "id": "a3a6c1d8-0b80-4de2-80d3-8a60fa54698c",
   "metadata": {},
   "source": [
    "#### Add data to series\n",
    "- add more data to the series by creating a new index value and adding the data.\n",
    "    -  _seriesname_[_newindexvalue_] = _newvalue_ will add a new row to the series with index value _newindexvalue_ \n",
    "-  Try adding a new row to emp_series with the index 'Warner' and the data value 41"
   ]
  },
  {
   "cell_type": "code",
   "execution_count": null,
   "id": "3b9d0695-8008-430d-809b-8610e8748395",
   "metadata": {},
   "outputs": [],
   "source": []
  },
  {
   "cell_type": "markdown",
   "id": "2e7f50bd-b1ac-40a8-8990-0229499de0a6",
   "metadata": {},
   "source": [
    "#### Length or size of a series\n",
    "- You can find the number of entries in a pandas series two ways\n",
    "  - _seriesname_.size:  Series are one-dimensional objects, so the size will return an integer with the number of rows in the series.\n",
    "  - len(_seriesname) will return the 'length' of the series or the number of rows.\n",
    "- Try this out on emp_series in the code block below "
   ]
  },
  {
   "cell_type": "code",
   "execution_count": null,
   "id": "ffcef728-b368-4659-bfda-06a5e19c51c1",
   "metadata": {},
   "outputs": [],
   "source": []
  },
  {
   "cell_type": "markdown",
   "id": "ef0b5e02-3c1f-486c-97f1-bf44cbe8e1a9",
   "metadata": {},
   "source": [
    "#### Mathematical operations on series \n",
    "- just like with numpy arrays, you can add, subtract, multiply, divide, and raise to the power by a _scalar_ \n",
    "- try performing mathematical operations with scalars on on emp_series in the codeblock below"
   ]
  },
  {
   "cell_type": "code",
   "execution_count": null,
   "id": "c90e8ce3-0132-4edb-ac46-9b7e736e6365",
   "metadata": {},
   "outputs": [],
   "source": []
  },
  {
   "cell_type": "markdown",
   "id": "7e7457d2-3981-4698-8061-8dada50a2e98",
   "metadata": {},
   "source": [
    "#### Numpy functions on series\n",
    "- You can also use built-in numpy functions on pandas series just like you could with numpy arrays\n",
    "- Try out np.log(), np.exp(), np.abs(), np.sqrt() on emp_sieres in the codeblock below"
   ]
  },
  {
   "cell_type": "code",
   "execution_count": null,
   "id": "2194d654-167e-4cd4-9093-a3c647f53636",
   "metadata": {},
   "outputs": [],
   "source": []
  },
  {
   "cell_type": "markdown",
   "id": "7a66b25f-b842-4c4e-a832-c559fea8b53c",
   "metadata": {},
   "source": [
    "### Mathematical and statistical operations on series\n",
    "- the Series _emp_series_ data is all numerical, so we can perform mathematical and statistical methods on the series similar to a numpy array. Note that it's more convenient to use methods rather than numpy functions\n",
    "  - _seriesname_.sum() returns the sum of the elements in the series\n",
    "  - _seriesname_.mean() returns the mean of the elements in the series\n",
    "  - _seriesname_.median() returns the median value of the elements in the series\n",
    "  - _seriesname_.var() returns the variace of the elements in the series\n",
    "  - _seriesname_.std() returns the standard deviation of the elements in the series\n",
    "  - _seriesname_.max() returns the maximum value of the elements in the series\n",
    "  - _seriesname_.min() returns the minimum value of the elemens in the series\n",
    "- If the there is even one non-numeric entry in the series, you will receive an error when you try any of the above. We'll address this in the 'data cleaning' section\n",
    "- Experiment with mathematical and statistical operations in the code block below."
   ]
  },
  {
   "cell_type": "markdown",
   "id": "9d64bef7-9a07-459d-a65f-3e5992b09159",
   "metadata": {},
   "source": [
    "### mathematical operations with two series\n",
    "- you can add, subtract, multiply, divide and raise to the power element-by-element of series \n",
    "- the two series need to have the same index values\n",
    "  - if one index value is different, the returned series with have an 'NaN' value where the index values do not match.\n",
    "- run the code below to create a second series representing hours in a second week  "
   ]
  },
  {
   "cell_type": "code",
   "execution_count": 5,
   "id": "99ccb2b6-f368-4170-9515-b007843d16b0",
   "metadata": {},
   "outputs": [
    {
     "name": "stdout",
     "output_type": "stream",
     "text": [
      "Tang        41.0\n",
      "Aucejo      40.0\n",
      "Manelli     27.0\n",
      "Townsend    10.0\n",
      "Burns       28.5\n",
      "Summers     32.0\n",
      "dtype: float64\n"
     ]
    }
   ],
   "source": [
    "# Run this code block to create both the dictionary and the data series for workers in a coffee shop in a second week\n",
    "emp_dict2 = {'Tang': 41, 'Aucejo': 40, 'Manelli': 27, 'Townsend': 10, 'Burns': 28.5, 'Summers': 32}\n",
    "emp_series2 = pd.Series(emp_dict2)\n",
    "print(emp_series2)"
   ]
  },
  {
   "cell_type": "markdown",
   "id": "48814b64-ac35-4c83-8ffb-7a45348d1ed2",
   "metadata": {},
   "source": [
    "- Notice how the index value 'McDaniel' is not in the series emp_series2 and there is a new index value, 'Summers,' in emp_series2\n",
    "- In the codeblock below, create a new series equal to the sum of emp_series and emp_series2.\n",
    "  - Notice how the index values for 'McDaniel' and 'Summers' in the new series are NaN.  _We'll address strategies for dealing with missing values in the data cleaning section_"
   ]
  },
  {
   "cell_type": "code",
   "execution_count": null,
   "id": "39dd003e-c2ac-41c5-8c3c-dfede2647590",
   "metadata": {},
   "outputs": [],
   "source": []
  },
  {
   "cell_type": "markdown",
   "id": "81b63c8b-26ac-4037-b47c-56aae9ccd965",
   "metadata": {},
   "source": [
    "### Series with non-numerical data\n",
    "- Series can contain categorical data like gender, ethnicity or race, state, etc.\n",
    "- The dictionary below contains the employess and their genders"
   ]
  },
  {
   "cell_type": "code",
   "execution_count": 6,
   "id": "a474d4a2-c51c-438a-b0bf-e626a6618f03",
   "metadata": {},
   "outputs": [
    {
     "name": "stdout",
     "output_type": "stream",
     "text": [
      "McDaniel    Female\n",
      "Tang        Female\n",
      "Aucejo        Male\n",
      "Manelli       Male\n",
      "Townsend      Male\n",
      "Burns         Male\n",
      "dtype: object\n"
     ]
    }
   ],
   "source": [
    "# run the code block below to create a series with the genders of the employees\n",
    "gender_dict = {'McDaniel': 'Female', 'Tang': 'Female', 'Aucejo': 'Male', 'Manelli': 'Male', 'Townsend': 'Male', 'Burns': 'Male'}\n",
    "gender_series = pd.Series(gender_dict)\n",
    "print(gender_series)"
   ]
  },
  {
   "cell_type": "markdown",
   "id": "24e5fe13-74bd-48f9-83bb-adbf56c7d37f",
   "metadata": {},
   "source": [
    "- As we did with mathematical series, you can append new entries to the series. Include a new row by running gender_series['Summers'] = 'Female' in the codeblock below."
   ]
  },
  {
   "cell_type": "code",
   "execution_count": null,
   "id": "0cb9a6a5-4a35-4066-89e5-49ade120e0c7",
   "metadata": {},
   "outputs": [],
   "source": []
  },
  {
   "cell_type": "markdown",
   "id": "f02c31d9-b5f1-4697-a660-94c28fe7860d",
   "metadata": {},
   "source": [
    "#### Selecting series based on numeric conditions\n",
    "- Often, we are interested selecting portions of our data based on their values\n",
    "- _seriesname_ > _z_ returns a series with the same index as _seriesname_ with the boolean value _True_ for all entries in the series that are greater than the value _z_ and _False_ otherwise.\n",
    "- Use the following\n",
    "    - '>' for greater than\n",
    "    - '>=' for greater than or equal to\n",
    "    - '==' for equal to\n",
    "    - '<' for less than\n",
    "    - '<=' for less than or equal to\n",
    "- Find which entries in emp_series are greater than 30, less than 30, equal to 30, or less than or equal  to 30 or greater than or equal to 40 in the codeblock below "
   ]
  },
  {
   "cell_type": "code",
   "execution_count": null,
   "id": "ebf63ee5-c093-4a56-9d9d-8f9cf6b28760",
   "metadata": {},
   "outputs": [],
   "source": []
  },
  {
   "cell_type": "markdown",
   "id": "f7571f45-8824-47a4-9690-aee0321673a8",
   "metadata": {},
   "source": [
    "#### Creating new series based on numeric conditions\n",
    "- We can create a subset of the series based on boolean values in a series with the same index values\n",
    "- For example, _zmask = seriesname > z_ create a series with boolean value True for all entries in the series that are greater than the value z and False otherwise.  The index values of _zmask_ are the same as the index values for _seriesname_.\n",
    "- Next, we create a new series _zseries = seriesname[zmask]_. The new series contains only the rows where _seriesname_ > z.\n",
    "    - You can also do this in one step: _zseries = seriesname[seriesname > z]_ produces the same series\n",
    "- try creating a new series called _emp30_ that contains only the employees in emp_series that have more than 30 hours. Experiment with different values"
   ]
  },
  {
   "cell_type": "code",
   "execution_count": null,
   "id": "9efc010b-7bbb-4b4c-a6de-9ef2eee1db17",
   "metadata": {},
   "outputs": [],
   "source": []
  },
  {
   "cell_type": "markdown",
   "id": "ce0b8845-321d-42b8-a30d-e5d7ed2baaee",
   "metadata": {},
   "source": [
    "#### Selecting and creating series based on non-numeric values\n",
    "  - We can check if values are equal to some string.  _seriesname == 'string'_ returns a series with the boolean value 'True' for all rows that are 'string' and 'False' otherwise\n",
    "  - Once we have the series with the same index as _seriesname_ and boolean values for 'True' or 'False' we can create new series that only contains the desired entries.\n",
    "  - With two lines of code: _smask = seriesname == 'string'_ and _strseries = seriesname[ssmask]_\n",
    "or\n",
    "   - With one line of code: _strseries = seriesname[seriesname=='string']_\n",
    "In the code block below create a new series female_series from gender_series that only contains the rows that are 'Female' "
   ]
  },
  {
   "cell_type": "code",
   "execution_count": null,
   "id": "38beecc3-cb0b-4e00-be53-098a77564702",
   "metadata": {},
   "outputs": [],
   "source": []
  },
  {
   "cell_type": "markdown",
   "id": "b1a945b1-0e2b-4a1b-9f9c-eb326d86c26c",
   "metadata": {},
   "source": [
    "- We can also select rows if they are equal to more than one element\n",
    "- Suppose we want to check if series values are equal to either 'string1' or 'string2'.\n",
    "- First, we create a list with the relevant values, _stringlist = ['string 1', 'string 2']_\n",
    "- _seriesname_.isin(stringlist)_ returns a series with boolean values for 'True' if the entry in the series is equal to either 'string1' or 'string2' and false otherwise.\n",
    "- Our example series _gender_series_ is not very interesting because there are only two values: 'Male' and 'Female'.  Try creating some new entries, like 'Other' or 'None' and experiment selecting and creating subsets of the series."
   ]
  },
  {
   "cell_type": "code",
   "execution_count": null,
   "id": "a0cf7696-0d3f-4ab6-897e-0a10d13ef96e",
   "metadata": {},
   "outputs": [],
   "source": []
  },
  {
   "cell_type": "markdown",
   "id": "edd1babb-904f-4303-8cd5-e95159ee708c",
   "metadata": {},
   "source": [
    "#### Counting the values of a series \n",
    "- We can count the number of times each value appears in the series with the _valuecounts()_ method\n",
    "- _seriesname.value_counts()_ returns a series with index of the entries in _seriesname_ and the number of times each entry appears in the series.\n",
    "- try gender_series.value_counts() in the codeblock below.  This works for both numeric and non-numeric data, so try out with emp_series as well."
   ]
  },
  {
   "cell_type": "code",
   "execution_count": null,
   "id": "d52d313b-442a-455a-90f0-58af0b88c100",
   "metadata": {},
   "outputs": [],
   "source": []
  },
  {
   "cell_type": "markdown",
   "id": "676eb89a-cbbe-4959-81d5-a5516edb7a82",
   "metadata": {},
   "source": [
    "Up next: Pandas dataframes"
   ]
  },
  {
   "cell_type": "code",
   "execution_count": null,
   "id": "3822b3bf-7078-41f6-97ec-439b0d908f03",
   "metadata": {},
   "outputs": [],
   "source": []
  }
 ],
 "metadata": {
  "kernelspec": {
   "display_name": "Python 3 (ipykernel)",
   "language": "python",
   "name": "python3"
  },
  "language_info": {
   "codemirror_mode": {
    "name": "ipython",
    "version": 3
   },
   "file_extension": ".py",
   "mimetype": "text/x-python",
   "name": "python",
   "nbconvert_exporter": "python",
   "pygments_lexer": "ipython3",
   "version": "3.9.18"
  }
 },
 "nbformat": 4,
 "nbformat_minor": 5
}

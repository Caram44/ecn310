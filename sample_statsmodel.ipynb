{
 "cells": [
  {
   "cell_type": "markdown",
   "id": "eed300d5-91fc-44cb-b474-d513e727a7e0",
   "metadata": {},
   "source": [
    "# Sample statsmodel"
   ]
  },
  {
   "cell_type": "markdown",
   "id": "9950b365-25e9-47c7-a729-b40e94f65b12",
   "metadata": {},
   "source": [
    "_note_: I am not as familar with this library as numpy and pandas\n",
    "https://www.statsmodels.org/stable/index.html\n",
    "\n",
    "scikitlearn is an alternative but more \"machine learning\" focused https://scikit-learn.org/stable/\n"
   ]
  },
  {
   "cell_type": "code",
   "execution_count": null,
   "id": "2b428e95-8a37-4c4a-b103-11b8145721c0",
   "metadata": {},
   "outputs": [],
   "source": [
    "import pandas as pd\n",
    "import numpy as np\n",
    "import statsmodels.api as sm\n"
   ]
  },
  {
   "cell_type": "markdown",
   "id": "42c2a11e-a290-4b07-b3ca-fb7fb02dc809",
   "metadata": {},
   "source": [
    "load in the data, this data is already cleaned"
   ]
  },
  {
   "cell_type": "code",
   "execution_count": null,
   "id": "1df32921-ee78-474e-b606-b52f26f82f60",
   "metadata": {},
   "outputs": [],
   "source": [
    "df = pd.read_csv('house_df_dummies.csv')"
   ]
  },
  {
   "cell_type": "markdown",
   "id": "84580890-c957-42f3-9642-f1171c04c907",
   "metadata": {},
   "source": [
    "take a look at the columns"
   ]
  },
  {
   "cell_type": "code",
   "execution_count": null,
   "id": "eed2c8df-a86f-43da-b40a-e6bdd8f1ccdf",
   "metadata": {},
   "outputs": [],
   "source": [
    "df.columns"
   ]
  },
  {
   "cell_type": "markdown",
   "id": "33ca1c34-ca33-49f9-a229-a3e5d2c06c81",
   "metadata": {},
   "source": [
    "choose our variables of interest, dependent and independent - _note_ I am not really trying here, it's just an example"
   ]
  },
  {
   "cell_type": "code",
   "execution_count": null,
   "id": "6d54eb19-d5cf-4909-8a56-2aad2ca24814",
   "metadata": {},
   "outputs": [],
   "source": [
    "ind_vars = ['sqft_living', 'sqft_lot','bedrooms', 'bathrooms', 'condition']"
   ]
  },
  {
   "cell_type": "markdown",
   "id": "be9a089f-afb7-4e03-8a46-c9719bee4210",
   "metadata": {},
   "source": [
    "choose the columns to use"
   ]
  },
  {
   "cell_type": "code",
   "execution_count": null,
   "id": "ffe44c3a-982d-4fda-b64b-124cfdbc8015",
   "metadata": {},
   "outputs": [],
   "source": [
    "X = df[ind_vars]"
   ]
  },
  {
   "cell_type": "code",
   "execution_count": null,
   "id": "6c18597d-0963-4d3e-82c2-b7474d93485b",
   "metadata": {},
   "outputs": [],
   "source": [
    "y = df['price']"
   ]
  },
  {
   "cell_type": "markdown",
   "id": "09e17855-c37c-4392-b454-0aee98296ea7",
   "metadata": {},
   "source": [
    "add a constant to the independent variable"
   ]
  },
  {
   "cell_type": "code",
   "execution_count": null,
   "id": "035ad2a1-225d-44c1-8471-ec7041b9c951",
   "metadata": {},
   "outputs": [],
   "source": [
    "X = sm.add_constant(X)"
   ]
  },
  {
   "cell_type": "markdown",
   "id": "a527ab32-48a7-4ce9-b706-256329b928db",
   "metadata": {},
   "source": [
    "the object house_model will have attributes of endog and exogs variables and other attributes"
   ]
  },
  {
   "cell_type": "code",
   "execution_count": null,
   "id": "59e23874-b967-49a6-8f36-4af46002edf3",
   "metadata": {},
   "outputs": [],
   "source": [
    "house_model = sm.OLS(y, X)\n"
   ]
  },
  {
   "cell_type": "markdown",
   "id": "3f76cb87-94bd-40b2-b781-01cc92fff42f",
   "metadata": {},
   "source": [
    "fit the house_model to get results.  results is an class with attributes params, and others\n",
    "results.summary() prints the full results"
   ]
  },
  {
   "cell_type": "markdown",
   "id": "10954157-2cb6-485f-bec8-435447edd309",
   "metadata": {},
   "source": [
    "fit the house_model to get results.  results is an class with attributes params, and others"
   ]
  },
  {
   "cell_type": "markdown",
   "id": "e1611ca1-940e-4c6e-9059-d7b2d6aa3e2a",
   "metadata": {},
   "source": [
    "fit the house_model to get results.  results is an class with attributes params, and others"
   ]
  },
  {
   "cell_type": "code",
   "execution_count": null,
   "id": "560f78e4-4d27-41f1-ae6d-98ff30f53024",
   "metadata": {},
   "outputs": [],
   "source": [
    "results = house_model.fit()\n",
    "results.summary()"
   ]
  },
  {
   "cell_type": "markdown",
   "id": "e04f29c2-eb4b-4105-b74f-78d910bd869a",
   "metadata": {},
   "source": [
    "------- "
   ]
  },
  {
   "cell_type": "markdown",
   "id": "5caafbe5-e1a6-44b5-9fbb-25b8521eb56f",
   "metadata": {},
   "source": [
    "maybe we want to log the dependent variable and square ft"
   ]
  },
  {
   "cell_type": "code",
   "execution_count": null,
   "id": "daec459e-01f4-4565-a74c-1f1d8149a3fc",
   "metadata": {},
   "outputs": [],
   "source": [
    "logy = np.log(y)"
   ]
  },
  {
   "cell_type": "code",
   "execution_count": null,
   "id": "7131098f-fa0c-4fe3-8b18-7b927d6e2548",
   "metadata": {},
   "outputs": [],
   "source": [
    "df['log_living'] = np.log(df['sqft_living'])\n",
    "df['log_lot'] = np.log(df['sqft_lot'])"
   ]
  },
  {
   "cell_type": "code",
   "execution_count": null,
   "id": "3c10252d-020d-4a42-a6f2-f9fa9f07bacd",
   "metadata": {},
   "outputs": [],
   "source": [
    "log_ind_vars = ['log_living', 'log_lot','bedrooms', 'bathrooms', 'condition']\n",
    "logX = df[log_ind_vars]\n",
    "logX = sm.add_constant(logX) "
   ]
  },
  {
   "cell_type": "code",
   "execution_count": null,
   "id": "84fb818c-ca6b-437f-a641-e428996fbac7",
   "metadata": {},
   "outputs": [],
   "source": [
    "log_model = sm.OLS(logy, logX)\n",
    "log_results = log_model.fit()\n",
    "log_results.summary()"
   ]
  },
  {
   "cell_type": "markdown",
   "id": "a90f5a71-8733-4fd3-998b-d09eb0c5e18e",
   "metadata": {},
   "source": [
    "There's also sm.Logit, sm.Probit"
   ]
  },
  {
   "cell_type": "code",
   "execution_count": null,
   "id": "400e5a46-60e0-4c4b-a7b1-fe8a4dbde4e5",
   "metadata": {},
   "outputs": [],
   "source": []
  },
  {
   "cell_type": "code",
   "execution_count": null,
   "id": "dbadeef8-4a91-4b65-bb40-780b8b479a3a",
   "metadata": {},
   "outputs": [],
   "source": []
  }
 ],
 "metadata": {
  "kernelspec": {
   "display_name": "Python 3 (ipykernel)",
   "language": "python",
   "name": "python3"
  },
  "language_info": {
   "codemirror_mode": {
    "name": "ipython",
    "version": 3
   },
   "file_extension": ".py",
   "mimetype": "text/x-python",
   "name": "python",
   "nbconvert_exporter": "python",
   "pygments_lexer": "ipython3",
   "version": "3.9.18"
  }
 },
 "nbformat": 4,
 "nbformat_minor": 5
}

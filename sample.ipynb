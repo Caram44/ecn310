{
 "cells": [
  {
   "cell_type": "code",
   "execution_count": null,
   "id": "ba609d24",
   "metadata": {},
   "outputs": [],
   "source": [
    "# This is a test notebook "
   ]
  },
  {
   "cell_type": "markdown",
   "id": "5b21a325",
   "metadata": {},
   "source": [
    "# Welcome to ECN 310 "
   ]
  },
  {
   "cell_type": "markdown",
   "id": "125e42a5",
   "metadata": {},
   "source": [
    "This is our first introduction to python "
   ]
  }
 ],
 "metadata": {
  "kernelspec": {
   "display_name": "Python 3 (ipykernel)",
   "language": "python",
   "name": "python3"
  },
  "language_info": {
   "codemirror_mode": {
    "name": "ipython",
    "version": 3
   },
   "file_extension": ".py",
   "mimetype": "text/x-python",
   "name": "python",
   "nbconvert_exporter": "python",
   "pygments_lexer": "ipython3",
   "version": "3.8.16"
  }
 },
 "nbformat": 4,
 "nbformat_minor": 5
}

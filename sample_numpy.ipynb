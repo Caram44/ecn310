{
 "cells": [
  {
   "cell_type": "markdown",
   "id": "72a3747a-0128-4395-a233-baa44b2995a0",
   "metadata": {},
   "source": [
    "## Start by importing the numpy package"
   ]
  },
  {
   "cell_type": "markdown",
   "id": "d4b574f7-e62f-4b9f-a1db-536f79151cea",
   "metadata": {},
   "source": [
    "you may see \"from numpy import *\", do not do this"
   ]
  },
  {
   "cell_type": "code",
   "execution_count": null,
   "id": "0ea343a2-bba8-4417-ba2d-316cce085715",
   "metadata": {},
   "outputs": [],
   "source": [
    "import numpy as np"
   ]
  },
  {
   "cell_type": "markdown",
   "id": "74bb03c5-cbac-4b47-9dc3-4ad883e88020",
   "metadata": {},
   "source": [
    "Create a one dimensional array from a list"
   ]
  },
  {
   "cell_type": "code",
   "execution_count": null,
   "id": "3cb3a0bf-2004-49f2-960d-a1c6b6b25f9c",
   "metadata": {},
   "outputs": [],
   "source": [
    "d1array = np.array([1, 2, 5, 6])\n",
    "d1array"
   ]
  },
  {
   "cell_type": "markdown",
   "id": "dee35747-ef69-469a-af62-c499c6303ae8",
   "metadata": {},
   "source": [
    "choose an element from the array"
   ]
  },
  {
   "cell_type": "code",
   "execution_count": null,
   "id": "6b6b13d0-7c86-40a3-b040-a2e835ef8a89",
   "metadata": {},
   "outputs": [],
   "source": [
    "d1array[0]"
   ]
  },
  {
   "cell_type": "markdown",
   "id": "ef414814-bdaf-45fa-ad5d-80edffcd936c",
   "metadata": {},
   "source": [
    "choose a range of elements"
   ]
  },
  {
   "cell_type": "code",
   "execution_count": null,
   "id": "c1490906-f816-4628-b9be-e6c53cf16658",
   "metadata": {},
   "outputs": [],
   "source": [
    "d1array[1:3]"
   ]
  },
  {
   "cell_type": "markdown",
   "id": "3ab8ec9c-e52b-4412-ac06-13dfd0b57dd1",
   "metadata": {},
   "source": [
    "learn something about the values in the array"
   ]
  },
  {
   "cell_type": "code",
   "execution_count": null,
   "id": "28370605-ee36-4c76-8a86-f0823667288d",
   "metadata": {},
   "outputs": [],
   "source": [
    "d1array > 3"
   ]
  },
  {
   "cell_type": "markdown",
   "id": "40a6dfe8-b0ea-489e-8cc2-26db53aeacc5",
   "metadata": {},
   "source": [
    "do something to the values in the array, multiply by 2, take the square root"
   ]
  },
  {
   "cell_type": "code",
   "execution_count": null,
   "id": "41d0982a-bccd-42b2-b78a-070f5177c802",
   "metadata": {},
   "outputs": [],
   "source": [
    "d1array*2"
   ]
  },
  {
   "cell_type": "code",
   "execution_count": null,
   "id": "ede586ea-4c4f-4a65-a3ca-deafe8fb7022",
   "metadata": {},
   "outputs": [],
   "source": [
    "d1array**.5"
   ]
  },
  {
   "cell_type": "markdown",
   "id": "a0d55683-c24b-493d-872f-851fd1ad8201",
   "metadata": {},
   "source": [
    "## multidimensional arrays"
   ]
  },
  {
   "cell_type": "code",
   "execution_count": null,
   "id": "cf35c5da-5393-4db9-a2da-888a00c27c58",
   "metadata": {},
   "outputs": [],
   "source": [
    "dmulti= np.array([[ 1., 0., 6.],\n",
    "                [ 0., 8., 2.],[6., 5, 4.]])\n",
    "dmulti"
   ]
  },
  {
   "cell_type": "markdown",
   "id": "85963cc8-1777-42a7-8027-4af70e604619",
   "metadata": {},
   "source": [
    "choose the first row"
   ]
  },
  {
   "cell_type": "code",
   "execution_count": null,
   "id": "8e6a83cd-f34a-4b2c-9908-f70af3bf667a",
   "metadata": {},
   "outputs": [],
   "source": [
    "dmulti[0,:]"
   ]
  },
  {
   "cell_type": "markdown",
   "id": "e902308b-42b9-4cf8-a931-c15934489138",
   "metadata": {},
   "source": [
    "choose the first column"
   ]
  },
  {
   "cell_type": "code",
   "execution_count": null,
   "id": "5ae73c5a-aa66-4d1c-bc33-bd51d0a26dc7",
   "metadata": {},
   "outputs": [],
   "source": [
    "dmulti[:,0]"
   ]
  },
  {
   "cell_type": "markdown",
   "id": "5c2db0bf-f078-4d02-be3c-8279c99fabbe",
   "metadata": {},
   "source": [
    "# Some methods \n",
    "maxvalue of all elements - notice how we use () and [] differently"
   ]
  },
  {
   "cell_type": "code",
   "execution_count": null,
   "id": "99a1850f-1d86-4494-8eba-8ca1edca94a1",
   "metadata": {},
   "outputs": [],
   "source": [
    "dmulti.max()\n"
   ]
  },
  {
   "cell_type": "code",
   "execution_count": null,
   "id": "8b90911b-ba14-473d-afe8-aa4274c4ff0d",
   "metadata": {},
   "outputs": [],
   "source": [
    "#max value in each column\n",
    "dmulti.max(0,)\n"
   ]
  },
  {
   "cell_type": "code",
   "execution_count": null,
   "id": "2aff06be-4273-423b-90e9-e19a26698d6f",
   "metadata": {},
   "outputs": [],
   "source": [
    "# maximum value in each row\n",
    "dmulti.max(1,)"
   ]
  },
  {
   "cell_type": "markdown",
   "id": "2c3af185-6e30-4a1d-b038-72e6fbc4bade",
   "metadata": {},
   "source": [
    "##  some basic descriptive statistics"
   ]
  },
  {
   "cell_type": "code",
   "execution_count": null,
   "id": "5dc07670-e175-4a18-82c9-1349d60e03a0",
   "metadata": {},
   "outputs": [],
   "source": [
    "# The mean of all values in the array\n",
    "dmulti.mean()"
   ]
  },
  {
   "cell_type": "code",
   "execution_count": null,
   "id": "2b90a87a-e1ec-421c-a216-6eeca6b8f139",
   "metadata": {},
   "outputs": [],
   "source": [
    "# The standard deviation of all values\n",
    "dmulti.std()"
   ]
  },
  {
   "cell_type": "code",
   "execution_count": null,
   "id": "ee9762a4-a868-41b0-bee1-f46462823b98",
   "metadata": {},
   "outputs": [],
   "source": [
    "# the mean of each column\n",
    "dmulti.mean(0,)"
   ]
  },
  {
   "cell_type": "code",
   "execution_count": null,
   "id": "8454f034-8296-4485-bccd-e6eaa5b3b2c1",
   "metadata": {},
   "outputs": [],
   "source": [
    "# the mean of each row\n",
    "dmulti.mean(1,)"
   ]
  },
  {
   "cell_type": "markdown",
   "id": "5085b321-0964-46f3-b098-1f3d6a6639e6",
   "metadata": {},
   "source": [
    "# other cool stuff"
   ]
  },
  {
   "cell_type": "markdown",
   "id": "43262d1b-c20c-46fe-8376-66f5add9a2e3",
   "metadata": {},
   "source": [
    "make a array from 0 to 99"
   ]
  },
  {
   "cell_type": "code",
   "execution_count": null,
   "id": "a0f429a7-84b2-457f-86ec-feec849ccaf7",
   "metadata": {},
   "outputs": [],
   "source": [
    "np.arange(100)"
   ]
  },
  {
   "cell_type": "markdown",
   "id": "636666bd-0cad-49aa-b2b5-a3ad288c8aca",
   "metadata": {},
   "source": [
    "make an array from 0 to 9.9 with 0.1 increments _note_ see how we do not reach the number 10?"
   ]
  },
  {
   "cell_type": "code",
   "execution_count": null,
   "id": "ca9ef7b2-fed2-4cd7-864f-87dc809c5dd5",
   "metadata": {},
   "outputs": [],
   "source": [
    "np.arange(0,10, .1)"
   ]
  },
  {
   "cell_type": "markdown",
   "id": "22cbc0d2-2a1d-4b59-a543-976487502acf",
   "metadata": {},
   "source": [
    "# and many more"
   ]
  },
  {
   "cell_type": "code",
   "execution_count": null,
   "id": "232e1a37-21b3-42a0-81c9-6c866766e015",
   "metadata": {},
   "outputs": [],
   "source": []
  }
 ],
 "metadata": {
  "kernelspec": {
   "display_name": "Python 3 (ipykernel)",
   "language": "python",
   "name": "python3"
  },
  "language_info": {
   "codemirror_mode": {
    "name": "ipython",
    "version": 3
   },
   "file_extension": ".py",
   "mimetype": "text/x-python",
   "name": "python",
   "nbconvert_exporter": "python",
   "pygments_lexer": "ipython3",
   "version": "3.9.18"
  }
 },
 "nbformat": 4,
 "nbformat_minor": 5
}

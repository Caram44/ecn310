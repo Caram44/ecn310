{
 "cells": [
  {
   "cell_type": "markdown",
   "id": "fbe6774a-3ee0-44a7-9998-651d4d17f297",
   "metadata": {},
   "source": [
    "# Numpy basics part 2"
   ]
  },
  {
   "cell_type": "markdown",
   "id": "4ea7f708-e38f-40e3-9912-2d53e9074e25",
   "metadata": {},
   "source": [
    "## Prerequisites\n",
    "- Numpy basics part 1"
   ]
  },
  {
   "cell_type": "markdown",
   "id": "9bae1efc-7473-4b44-9ddd-5cd8b8069ee8",
   "metadata": {},
   "source": [
    "## Learning Objectives\n",
    "- Perform mathematical operations on numpy arrays\n",
    "- Use in buit in numpy mathematical and statistical functions and methods on one-dimensional arrays\n",
    "- Perform mathematical operations on two or more numpy arrys of the same shape\n",
    "- Calculate covariance and correlation of two numpy arrays"
   ]
  },
  {
   "cell_type": "markdown",
   "id": "e9fb5b1c-63bb-4307-af90-e93e738f8aa9",
   "metadata": {},
   "source": [
    "## References\n",
    "- https://wesmckinney.com/book/numpy-basics"
   ]
  },
  {
   "cell_type": "code",
   "execution_count": 1,
   "id": "99d011c5-8e13-46e4-ba9b-765c2468ba18",
   "metadata": {},
   "outputs": [],
   "source": [
    "# Execute this code block to import numpy\n",
    "import numpy as np"
   ]
  },
  {
   "cell_type": "markdown",
   "id": "b697585d-d3f6-4fcf-a159-f4079ca12f23",
   "metadata": {},
   "source": [
    "### Basic mathematical operations with 1-dimensional arrays"
   ]
  },
  {
   "cell_type": "code",
   "execution_count": 2,
   "id": "37a81c5e-87cc-4829-b9c9-6e8440f4b8d0",
   "metadata": {},
   "outputs": [
    {
     "data": {
      "text/plain": [
       "array([85.72, 71.22, 64.48, 86.31, 92.11, 47.82, 63.37, 78.5 , 79.72,\n",
       "       80.55])"
      ]
     },
     "execution_count": 2,
     "metadata": {},
     "output_type": "execute_result"
    }
   ],
   "source": [
    "# Suppose 10 students take an exam and the scores are stored in the array below\n",
    "scores = np.array([85.72, 71.22, 64.48, 86.31, 92.11, 47.82, 63.37, 78.5 , 79.72, 80.55])\n",
    "scores"
   ]
  },
  {
   "cell_type": "markdown",
   "id": "85d73d7f-f20a-4d6d-baea-4a8e65196f28",
   "metadata": {},
   "source": [
    "#### Addition and subtraction\n",
    "- adding a single number, or _scalar_ to an array adds the value to every element of the array\n",
    "    - Suppose the professor wants to add 5 points to every score.\n",
    "    - In the code block below, create a new array called new_scores = scores + 5\n",
    "        - _Hint_: scores + 5 returns an array with 5 added to every element, but does not change the initial values. If you want to save the new array, you need to define a new object or redefine the array. scores = ...\n",
    "    - Subracting a scalar works the same way.  Experiment with addition and substraction of scalars the code block below. \n"
   ]
  },
  {
   "cell_type": "code",
   "execution_count": null,
   "id": "5fa25dc9-7d4f-405a-a877-8bfa014f1944",
   "metadata": {},
   "outputs": [],
   "source": []
  },
  {
   "cell_type": "markdown",
   "id": "ff252f0c-7458-4b00-8ef9-fc1bbfe6c5f5",
   "metadata": {},
   "source": [
    "#### Multiplication and division\n",
    "- Multiplation and division of scalars works the same way.\n",
    "- Find each element of scores divided by 100 as scores/100\n",
    "- Find all scores doubled by entering scores*2\n",
    "- Experiment with multiplication and division in the code block below"
   ]
  },
  {
   "cell_type": "code",
   "execution_count": null,
   "id": "676bc783-5fe7-4767-bc7d-74bbf509561f",
   "metadata": {},
   "outputs": [],
   "source": []
  },
  {
   "cell_type": "markdown",
   "id": "96f559d0-ff08-466c-af30-c1683ac59dc1",
   "metadata": {},
   "source": [
    "#### Raising to a power\n",
    "- Use '**' to raise to a power.  \n",
    "- Raise every element the array scores to the power of 2, or square each value, by entering scores**2\n",
    "    - Find the square root of each element by scores**(1/2) _Note_ See the paranthesis around (1/2).  If you leave the parathesis out, you get scores**1 and then divided by 2.  Experiment in the code block below"
   ]
  },
  {
   "cell_type": "code",
   "execution_count": null,
   "id": "4539c09f-8b43-4745-b17f-37aae2503310",
   "metadata": {},
   "outputs": [],
   "source": []
  },
  {
   "cell_type": "markdown",
   "id": "c9896002-a051-4020-a998-393a05a57974",
   "metadata": {},
   "source": [
    "#### multiple operations \n",
    "- Order of operations applys here too.  if you want to add 5 to scores, divide by 100 and then square that value, do the following:\n",
    "  ((scores + 5)/100)**2\n",
    "- practice with order of operations below"
   ]
  },
  {
   "cell_type": "code",
   "execution_count": null,
   "id": "65ddcadc-dc84-4680-b0c1-f848082d0fef",
   "metadata": {},
   "outputs": [],
   "source": []
  },
  {
   "cell_type": "markdown",
   "id": "2acd7803-9a4a-4d58-919a-5531b4a0af4b",
   "metadata": {},
   "source": [
    "### Numpy mathematical functions"
   ]
  },
  {
   "cell_type": "markdown",
   "id": "0341ca83-1ebe-4fa4-bba0-414ec29e98ed",
   "metadata": {},
   "source": [
    "- to use any of numpy's functions, you need to preface the function name with \"np.\", for example np.log(scores) returns the natural log of each element in the array scores.  log(scores) will return an error\n",
    "- Here are some built mathematical operations you might use in this class\n",
    "  - np.exp(_array name_) returns an array with the exponential constant 'e' (2.718...) raised to the value of each element of _array name_\n",
    "  - np.sqrt(_array name_) return an array with the square root of each element of _array name_\n",
    "  - np.square(_array name_) returns an array with each element of _array name_ squared\n",
    "  - np.abs(_array name_) returns an array with the absolute value of each element of _array name_\n",
    "  - np.log(_array name_), np.log10(_array name_), np.log2(_array name_), np.log1p(_array name_) \tNatural logarithm (base e), log base 10, log base 2, and log(1 + x), respectively\n",
    "- Experiment with built in functions below"
   ]
  },
  {
   "cell_type": "code",
   "execution_count": null,
   "id": "9746a945-273a-4dfa-a4c0-7513a989f525",
   "metadata": {},
   "outputs": [],
   "source": []
  },
  {
   "cell_type": "markdown",
   "id": "7604d82b-948c-4aa7-8938-5fb0a7ce48b2",
   "metadata": {},
   "source": [
    "### Numpy statistical functions and methods \n",
    "- Often, is possible to use both a function and a method for the same task.\n",
    "- The \"function\" np.sum(scores) and the \"method\" scores.sum() both return the sum of the values in the array. Neither is wrong.  You may see both when reading and writing code, so we include both below.\n",
    " \n",
    "_arrayname_.max() or np.max(_arrayname_) returns the maximum value of the elements of  array $\\max \\{x \\}$, where $x$ represents _arrayname_\n",
    "\n",
    "_arrayname_.min() or np.min(_arrayname_) returns the minimum value of the elements of the array, $\\min \\{x \\}$\n",
    "\n",
    "_arrayname_.sum() or np.sum(_arrayname_) returns the sum of all values in the array,  $\\sum_i x_i $\n",
    "\n",
    "_arrayname_.mean() or np.mean(_arrayname_)  returns the mean of the values in the array,  $\\bar{x} = \\frac{\\sum_i x_i}{N}$\n",
    "\n",
    "_arrayname_.var() or np.var(_arrayname_) returns the _population variance_ of the values in the array, $\\sigma^2 = \\frac{\\sum_i(x_i - \\bar{x}^2)}{N}$\n",
    "\n",
    "_arrayname_.var(ddof=1) or np.var(_arrayname_, ddof=1) returns the _sample variance_ $s^2 = \\frac{\\sum_i(x_i - \\bar{x}^2}{N - 1}$ \n",
    "\n",
    "_arrayname_.std() or np.std(_arrayname_) returns the _population standard deviation_ of the values in the array, $\\sqrt{\\sigma^2}$ \n",
    "\n",
    "_arrayname_.std(ddof=1) or np.std(_arrayname_, ddof=1) returns the _sample standard deviation_ $\\sqrt{s^2}.$   \n",
    "\n",
    "_Note:_ \"ddof\" in the .var() and .std() methods stands for \"degrees of freedom.\" Both np.var() and np.std() default to ddof=0 or population variance and standard deviation. Use ddof = 1 when calculating sample statistics or as directed by your instructor.  \n",
    "\n",
    "Experiment with mathematical and statistical functions and methods in the codeblock below"
   ]
  },
  {
   "cell_type": "code",
   "execution_count": null,
   "id": "08dc7f21-1233-4b6d-be4b-0d6b545beb30",
   "metadata": {},
   "outputs": [],
   "source": []
  },
  {
   "cell_type": "markdown",
   "id": "989c8243-f331-4b5a-8fff-e7c1d8355270",
   "metadata": {},
   "source": [
    "#### Mathematical operations with multiple arrays\n",
    "- You can add, subtract, muliply, and divide and raise to the power two one-dimensional arrays of the same number of elements\\\n",
    "  \n",
    "- _arrayname1_ + _arrayname2_ will add, element-by-element, the values of _arrayname1_ and _arrayname2_ as long as both arrays are of the same shape\n",
    "   - +, -, *, /, and ** all work element-by-element on same-shape arrays\n",
    "- run the codeblock below to create a second array"
   ]
  },
  {
   "cell_type": "code",
   "execution_count": 3,
   "id": "5e9db9de-7e71-4f68-be33-740a21bfdd68",
   "metadata": {},
   "outputs": [],
   "source": [
    "# Suppose the same 10 students take a second exam and the scores are stored in the array scores_2\n",
    "# Also suppose than only five students choose to take the final exam and the scores are stored in scores_final\n",
    "# run this codeblock to create the arrays scores_2 and final\n",
    "scores2 = np.array([83.15, 88.43, 58.45, 84.22, 98.10, 38.21, 62.45, 81.72, 79.55, 84.38])\n",
    "scores_final = np.array([75.12, 91.34, 100, 65.14, 55.88])"
   ]
  },
  {
   "cell_type": "markdown",
   "id": "a0ed6d95-4c8e-422e-9488-5f52de9cfdc7",
   "metadata": {},
   "source": [
    "- try adding and subtracting the arrays scores and scores2 in the codeblock below.\n",
    "- Though it does not make sense for exam scores to be multiplied, divided, or raised to a power, try that as well.\n",
    "  - Try some operations with scores and scores_final and confirm you see the an error because the two arrays are of a different shape."
   ]
  },
  {
   "cell_type": "code",
   "execution_count": null,
   "id": "717a6368-9246-435a-9ddd-5f3da4741d12",
   "metadata": {},
   "outputs": [],
   "source": []
  },
  {
   "cell_type": "markdown",
   "id": "a109844f-0e3b-45f6-b117-077096eac610",
   "metadata": {},
   "source": [
    "#### Statistical operations with two arrays\n",
    "##### Covariance\n",
    "The _sample covariance_ of two variables $x$ and $y$ is $s_{x,y} = \\sum_i\\frac{(x_i - \\bar{x})(y_i - \\bar{y})}{N-1}$\n",
    "\n",
    "\n",
    "The function np.cov(_arrayname1_, _arrayname2_) returns the _sample_ covariance matrix of variables $x$ and $y$\n",
    "\n",
    "\n",
    "<img src=\"sample_covariance.png\" alt=\"Drawing\" style=\"width: 300px;\"/> \n",
    "$s^2_x$ is the sample variance of $x$ and $s^2_y$ is the sample variance of $y$. \n",
    "\n",
    "$s_{x,y}$ is the sample covariance of $x$ and $y$.  Note $s_{x,y} = s_{y,x}$ \n",
    "\n",
    "The _population covariance_ of two variables $x$ and $y$ is  $\\sigma_{x,y} = \\sum_i\\frac{(x_i - \\bar{x})(y_i - \\bar{y})}{N}$\n",
    "\n",
    "The function np.cov(_arrayname1_, _arrayname2_, ddof=0) returns the _popluation_ covariance matrix  \n",
    "\n",
    "<img src=\"population_covariance.png\" alt=\"Drawing\" style=\"width: 350px;\"/> \n",
    "\n",
    "$\\sigma^2_x$ is the population variance of $x$ and $\\sigma^2_y$ is the population variance of $y$. \n",
    "\n",
    "$\\sigma_{x,y}$ is the population covariance of $x$ and $y$. Also note $\\sigma_{x,y} = \\sigma_{y,x}$ \n",
    "\n",
    "Note: The function np.cov() defaults ddof=1, unlike the function np.var() which defaults to ddof=0.  If you want the covariance matrix for a population, you must specify ddof=0. \n",
    "\n",
    "- In the codeblock below, experiment with creating the population and sample covariance matricies for scores and scores2. \n",
    "\n",
    "   - Confirm the first row and column of np.cov(scores, scores2)  is equal to the sample variance of scores, np.var(scores, ddof=1)\n"
   ]
  },
  {
   "cell_type": "code",
   "execution_count": null,
   "id": "c71d230b-1cd7-46fe-a67d-9197c589735e",
   "metadata": {},
   "outputs": [],
   "source": []
  },
  {
   "cell_type": "markdown",
   "id": "1166a23e-38f7-4b09-baab-8becf9eef3d1",
   "metadata": {},
   "source": [
    "##### Recall selecting arrays\n",
    "- np.cov(_arrayname1_, _arrayname2_) returns an array with two rows and two columns.  \n",
    "- The sample covariance is found in the first row and second column _or_ the second row and first column.\n",
    "- In the codeblock below, create a new array called scov = np.cov(scores, scores2).\n",
    "  - The sample covariance of scores and scores2 can be returned with scov[0,1] or scov[1,0]\n",
    "  - The sample variance of scores is returned with scov[0,0]\n",
    "  - The sample variance of scores2 is returned with scov[1,1]\n",
    "- Experiment with selecting elements of covariance arrays in the code block below.\n",
    "- Verify that scov[0,0] is equal to np.std(scores, ddof=1) and scov[1,1] = np.std(scores2, ddof=1)"
   ]
  },
  {
   "cell_type": "code",
   "execution_count": null,
   "id": "6c4fb1cb-e845-4c3c-ad19-d478f02d4e65",
   "metadata": {},
   "outputs": [],
   "source": []
  },
  {
   "cell_type": "markdown",
   "id": "2b2cdc99-da74-4ce8-b22e-1e019d43c779",
   "metadata": {},
   "source": [
    "##### Correlation coefficients\n",
    "\n",
    "The sample Pearson correlation coefficient between variables $x$ and $y$ is \n",
    "\n",
    "$r_{x,y} = \\frac{s_{x,y}}{s_x, s_y}$, where $s_{x,y}$ is the sample covariance, $s_x$ is the sample standard deviation of $x$ and $s_y$ is the sample standard deviation of $y$.\n",
    "\n",
    "np.corrcoef(_arrayname1_, _arrayname2_) returns the sample correlation _matrix_ of the two arrays. \n",
    "\n",
    "<img src=\"sample_correlation_matrix.png\" alt=\"Drawing\" style=\"width: 300px;\"/> \n",
    "\n",
    "- $r_{xy}$ is the correlation coefficient of x and y.  $r_{xy}$ = $r_{yx}$ and $r_{xx}$ = $r_{yy}$ = 1.  This means we care only about $r_{xy}$ or $r_{yx}$\n",
    "- Use the code block below to find the correlation coefficient of scores and scores2.  Notice that you cannot calculate the correlation coefficient for scores and scores_final because the arrays are not the same size.\n",
    "- practice selecting elements of the two-by-two array\n",
    "\n",
    "  \n",
    "_Note_: Sometimes you see correlation as $\\rho_{x,y}$, this is the population correlation coefficient.  The degrees of freedom cancel out in the correlation coefficient formula, so we do not need to worry about the ddof argument in the np.corrcoef() function.\n",
    "\n"
   ]
  },
  {
   "cell_type": "code",
   "execution_count": null,
   "id": "04593f51-6f80-438a-af80-b59ac44ab5a2",
   "metadata": {},
   "outputs": [],
   "source": []
  },
  {
   "cell_type": "markdown",
   "id": "f0f7d32a-230d-48a7-80ca-ea6806993c0f",
   "metadata": {},
   "source": [
    "### Up next: working with multi-dimensional arrays"
   ]
  }
 ],
 "metadata": {
  "kernelspec": {
   "display_name": "Python 3 (ipykernel)",
   "language": "python",
   "name": "python3"
  },
  "language_info": {
   "codemirror_mode": {
    "name": "ipython",
    "version": 3
   },
   "file_extension": ".py",
   "mimetype": "text/x-python",
   "name": "python",
   "nbconvert_exporter": "python",
   "pygments_lexer": "ipython3",
   "version": "3.9.18"
  }
 },
 "nbformat": 4,
 "nbformat_minor": 5
}

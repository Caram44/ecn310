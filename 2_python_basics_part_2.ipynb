{
 "cells": [
  {
   "cell_type": "markdown",
   "id": "5b21a325",
   "metadata": {},
   "source": [
    "# Python Basics, part 2"
   ]
  },
  {
   "cell_type": "code",
   "execution_count": null,
   "id": "035828bd-3765-4b92-ae81-c58b433e7763",
   "metadata": {},
   "outputs": [],
   "source": []
  },
  {
   "cell_type": "markdown",
   "id": "c0cc8c64-300e-4b8c-9ac1-5fe2a7336f5c",
   "metadata": {},
   "source": [
    "## Prerequisites\n",
    "- Python basics, part 1"
   ]
  },
  {
   "cell_type": "markdown",
   "id": "125e42a5",
   "metadata": {},
   "source": [
    "## Learning objectives \n",
    "- Define a list, tuple, dictionary, and set\n",
    "- Explain list indexing and how to select elements from a list or a tuple\n",
    "- Explain how to add or replace elements to a list\n",
    "- Explain how to sort a list\n",
    "- Explain basic set operations"
   ]
  },
  {
   "cell_type": "markdown",
   "id": "2447bbbd-4444-494f-8d4b-cb797fb9f99f",
   "metadata": {},
   "source": [
    "### References\n",
    "- https://docs.python.org/3/tutorial/introduction.html"
   ]
  },
  {
   "cell_type": "markdown",
   "id": "e341a8a6-6a03-40b3-ac60-d287ca9c279f",
   "metadata": {},
   "source": [
    "### Lists and tuples"
   ]
  },
  {
   "cell_type": "markdown",
   "id": "18eb2355-347f-4ce6-81d4-95d85156aa72",
   "metadata": {},
   "source": [
    "- Lists are tuples are both sequences\n",
    "    - lists are written as a sequence of comma-separated values (items) between square brackets [].\n",
    "    - tulpes are a sequence of comma-separated values (items) between round brackets ().\n",
    "- We will use lists more often than tuples. Tuples and lists differ in the following ways:\n",
    "     - lists can be sorted an the elements of a list removed, added, or re-arranged\n",
    "     - tuples are used in cases when the number of elements and the order should not change.  An example is a coordinate on the x-y plane, or a price, quantity pair.\n",
    "- In what follows, we cover list basics\n",
    "- Run the code in the block below to create the lists 'olive_garden' and 'carrabbba' "
   ]
  },
  {
   "cell_type": "code",
   "execution_count": 1,
   "id": "67fd5733-f2f3-4b7d-824e-3aba3eaafdb2",
   "metadata": {},
   "outputs": [],
   "source": [
    "# Here is a list of Olive Garden zip codes in Arizona (source: Company website)\n",
    "# notice how I broke up the list, you can create a line break after a comma between the brackets if your list is long\n",
    "olive_garden = [85085, 85254, 85206, 85051, 86301, 85382, 85015, 85202,\n",
    "                85374, 86001, 86301, 85382, 85374, 85051, 85254, 85305, 85015, 85035, 85395]\n",
    "\n",
    "# Here is a list of zip codes in Arizona that have a Carrabba's Italian Grill (compny website)\n",
    "carrabba = [85296, 85226, 85737, 85208, 85308, 85374, 85323] "
   ]
  },
  {
   "cell_type": "markdown",
   "id": "ed0da786-db04-4e03-98e3-7a59832f2e57",
   "metadata": {},
   "source": [
    "- The length of a list is the number of elements in the list\n",
    "- The built in python function len() returns the length of a list, tuple, or set(more to come)\n",
    "- In the code block below, enter len(olive_garden) and len(carrabba) to count the number of elements in the list"
   ]
  },
  {
   "cell_type": "code",
   "execution_count": null,
   "id": "83b114b4-9077-4931-8780-9afb0a1ea55d",
   "metadata": {},
   "outputs": [],
   "source": []
  },
  {
   "cell_type": "markdown",
   "id": "630a3d0f-8635-4c11-b48a-507a702b3fbd",
   "metadata": {},
   "source": [
    "#### Select list elements"
   ]
  },
  {
   "cell_type": "markdown",
   "id": "7e9f9c8b-7043-4de5-8d23-05deb6626ad4",
   "metadata": {},
   "source": [
    "- Select elements of a list or tuple using square brackets\n",
    "- the first element of  example_list is example_list[0]\n",
    "- the second element of example_list is example_list[1], third is example_list[2], and so on\n",
    "- the last element of example_list is example_list[-1], this is true no matter the length\n",
    "- experiment selecting elements of carrabba and olive_garden in the code block below"
   ]
  },
  {
   "cell_type": "code",
   "execution_count": null,
   "id": "25e39057-e93a-49b2-ad5a-db2818f94481",
   "metadata": {},
   "outputs": [],
   "source": []
  },
  {
   "cell_type": "markdown",
   "id": "9db6a006-8c7d-43ce-9c1d-e8f373d10a8d",
   "metadata": {},
   "source": [
    "#### Select ranges of lists"
   ]
  },
  {
   "cell_type": "markdown",
   "id": "9e3494b2-ae2d-4a80-9dc2-f604ba4336a6",
   "metadata": {},
   "source": [
    "- select ranges of a list\n",
    "- the first two elements of example_list are example_list[0:2] __Important!__ 0 is the starting value, 2 is the third element. Python will return _up to_ but not inclusive of the third element\n",
    "- the 3rd through 10th elements of a example list are example_list[2:11]\n",
    "- Practice selecting ranges of lists of olive_garden and carrabba in the code block below"
   ]
  },
  {
   "cell_type": "code",
   "execution_count": null,
   "id": "a5b935c0-35d1-42f7-a861-0b37939f9a70",
   "metadata": {},
   "outputs": [],
   "source": []
  },
  {
   "cell_type": "markdown",
   "id": "15ebe9e2-7e1f-42eb-8185-b90b6d3b1374",
   "metadata": {},
   "source": [
    "#### Add and remove list elements"
   ]
  },
  {
   "cell_type": "markdown",
   "id": "8b6ec931-e7a8-4e56-9d28-93043edae713",
   "metadata": {},
   "source": [
    "- Add elements to a list using the append() method _Note: methods are things we can do to objects, like lists, in python. The difference between methods and functions is important for programming, but outside the context of this course._\n",
    "- Suppose a new Carrabba's Italian Kitchen opens in the zip code 85282.\n",
    "    - Add this to the carrabba list with carrabba.append(85282)\n",
    "- enter this in the code block below. Use the print function to print the list and note that 85282 has been added "
   ]
  },
  {
   "cell_type": "code",
   "execution_count": null,
   "id": "eeffdc25-511f-4bf3-b9f2-f0e5fbd7916d",
   "metadata": {},
   "outputs": [],
   "source": []
  },
  {
   "cell_type": "markdown",
   "id": "e95966ad-36a7-471f-aff9-898d8860fa04",
   "metadata": {},
   "source": [
    "- remove elements using the remove() method.\n",
    "- suppose the restaurant in 85282 closes. Remove 85282 from the carrabba list by entering carrabba.remove(85282) in the code block below.\n",
    "- If 85282 was in the list more than once, all instances of 85282 will be removed\n",
    "- use the print function to verify 85282 has been removed.  _If you get an error, check first that you correctly appended 85282 to the list in the code block above_"
   ]
  },
  {
   "cell_type": "code",
   "execution_count": null,
   "id": "5241f2fb-6a55-444d-aa64-8a7a5073618a",
   "metadata": {},
   "outputs": [],
   "source": []
  },
  {
   "cell_type": "markdown",
   "id": "69c7e461-96a7-4ec4-b070-fe10ec9586c5",
   "metadata": {},
   "source": [
    "#### Combining lists"
   ]
  },
  {
   "cell_type": "markdown",
   "id": "86dc032d-de83-48f3-be6c-579f6d180381",
   "metadata": {},
   "source": [
    "- adding two lists combines the two list into one list\n",
    "    - _note_ subtracting to lists will give you an error\n",
    "- in the code block below, create a new list called italian_zips = olive_garden + carrabba. Print the list and see what it looks like."
   ]
  },
  {
   "cell_type": "markdown",
   "id": "f04a2706-1efe-4470-85cb-9521ae3da5d8",
   "metadata": {},
   "source": [
    "#### Misc on lists\n",
    "- List elements can be just about anything and can include a mix of text, numbers, other lists, dictionaries, sets, or other python object types in python.\n",
    "- In the code block below, experiment with creating lists.  Include next, nest lists together, etc.  "
   ]
  },
  {
   "cell_type": "markdown",
   "id": "bee45f45-4bc8-4b19-95d0-56ada12ea260",
   "metadata": {},
   "source": [
    "### Sets"
   ]
  },
  {
   "cell_type": "markdown",
   "id": "27b3a025-f3d1-4c7f-a700-e7f0d1588ce8",
   "metadata": {},
   "source": [
    "- Sets are useful for counting unique elements or looking for different/same elements of list-like sequences\n",
    "- A set consists of the unique elements of a sequence of numbers\n",
    "- You can create create a set by typing comma separated items between {} brackets\n",
    "- You can also create a set called 'new_set' from an existing list called 'example_list' by entering new_set=set(example_list)\n",
    "- In the code block below create a sets from the lists olive_garden and cabbarra\n",
    "    - set_olive_garden = set(olive_garden)\n",
    "    - set_carrabba = set(carrabba)\n",
    "        - even though the list carrabarra has no repeated zip codes, you still need to create the set to set operations "
   ]
  },
  {
   "cell_type": "code",
   "execution_count": 2,
   "id": "267fd06c-0906-4cc2-88bc-1655cdbbc1f2",
   "metadata": {},
   "outputs": [
    {
     "data": {
      "text/plain": [
       "{85374}"
      ]
     },
     "execution_count": 2,
     "metadata": {},
     "output_type": "execute_result"
    }
   ],
   "source": [
    "set_carrabba = set(carrabba)\n",
    "set_olive_garden = set(olive_garden)\n",
    "set_carrabba\n",
    "set_carrabba - set_olive_garden\n",
    "set_carrabba.intersection(set_olive_garden)"
   ]
  },
  {
   "cell_type": "markdown",
   "id": "302600e1-69a4-4611-9249-a7f51271b35d",
   "metadata": {},
   "source": [
    "#### Set operations\n",
    "- Return to the italian restaurants: set_olive_garden and set_carrabba\n",
    "- The union of these two sets are the elements (zip codes) that are included in  set_olive_garden or set_carrabba (or both)\n",
    "    - Find the union by typing set_olive_garden.union(set_carrabba) or set_olive_garden | set_carrabba\n",
    "- The intersection of these two sets are the elements that in included in both sets\n",
    "    - Find the intersection by typing set_olive_garden.intersection(set_carrabba) or set_olive_garden & set_carrabba\n",
    "- The difference between set_olive_garden and set_carrabba are the elements of set_olive_garden that _are not_ in set_carrabba\n",
    "    - Find difference betwen set_olive_garden and set_carrabba by typing set_olive_garden.difference(set_carrabba) or set_olive_garden - set_carrabba\n",
    "    - Find the difference between set_carrabba and set_olive_garden as set_carrabba.difference(set_olive_garden) or set_carrabba - set_olive_garden\n",
    "- Experiment in the code block below"
   ]
  },
  {
   "cell_type": "code",
   "execution_count": null,
   "id": "57e959ee-9e56-479f-ad6e-b5768a2a17bc",
   "metadata": {},
   "outputs": [],
   "source": []
  },
  {
   "cell_type": "markdown",
   "id": "8c220489-1c7d-417c-af72-b4ac0461d6bd",
   "metadata": {},
   "source": [
    "### dictionaries"
   ]
  },
  {
   "cell_type": "markdown",
   "id": "140fe3fd-9598-4f58-ae3b-7a5c103ecc59",
   "metadata": {},
   "source": [
    "- dictionaries are useful for storing values or listed that are associated with some keys\n",
    "- below is an example dictionary that associates a list of zip codes with Olive Garden restaurants and the state where they are located\n",
    "- run the code in the code block below to create the dictionary 'olive_garden_dict'\n",
    "- the 'keys' of this dictionary are 'Arizona' and 'Oregon'\n",
    "- the values associated with a key in a dictionary are lists in this case, but can be single numeric or text values, dictionaries or other python ojects.\n",
    "- Dictionaries are not good for storing large amounts of tabular data, there are better tools introduced later"
   ]
  },
  {
   "cell_type": "code",
   "execution_count": 3,
   "id": "ced6ab7d-07f3-4447-9717-fd81909ec3f1",
   "metadata": {},
   "outputs": [],
   "source": [
    "olive_garden_dict = {'Arizona':[85085, 85254, 85206, 85051, 86301, 85382, 85015, 85202,\n",
    "                                85374, 86001, 86301, 85382, 85374, 85051, 85254, 85305,\n",
    "                                85015, 85035, 85395], \n",
    "                    'Oregon': [97015, 97035, 97216, 97005, 97080, 97301, 97401,97703]}"
   ]
  },
  {
   "cell_type": "markdown",
   "id": "e4002865-47fb-4ddc-bbde-bf3a4ad34cb7",
   "metadata": {},
   "source": [
    "- In the block below, type olive_garden_dict.keys() to see the key values of the dictionary\n",
    "- To see the values for Arizona, type olive_garden_dict['Arizona']"
   ]
  },
  {
   "cell_type": "code",
   "execution_count": null,
   "id": "d4dd70a2-ef2b-4b4a-af7f-f3e3889e6100",
   "metadata": {},
   "outputs": [],
   "source": []
  },
  {
   "cell_type": "markdown",
   "id": "3b6156c5-bc69-4c1f-9905-5678f86e3edd",
   "metadata": {},
   "source": [
    "- Suppose you want to add New Mexico to the list of states with zip codes 87123, 87109\n",
    "- Type olive_garden_dict['New Mexico'] = [87123, 87109]\n",
    "- Do that in the code block below and print olive_garden_dict to verify the dictionary now contains values for New Mexico"
   ]
  },
  {
   "cell_type": "code",
   "execution_count": null,
   "id": "bed57cd3-ca74-43fa-ac60-95159f988eea",
   "metadata": {},
   "outputs": [],
   "source": []
  },
  {
   "cell_type": "markdown",
   "id": "e0965eea-db8b-43cd-a2db-073fb74cba7d",
   "metadata": {},
   "source": [
    "- Experiment with dictionaries.\n",
    "- For example, Create a dictionary of all the towns you lived as keys and the years you lived there as associated values"
   ]
  },
  {
   "cell_type": "code",
   "execution_count": null,
   "id": "2e84c0ff-a416-4263-a460-0d97bed01bfc",
   "metadata": {},
   "outputs": [],
   "source": []
  }
 ],
 "metadata": {
  "kernelspec": {
   "display_name": "Python 3 (ipykernel)",
   "language": "python",
   "name": "python3"
  },
  "language_info": {
   "codemirror_mode": {
    "name": "ipython",
    "version": 3
   },
   "file_extension": ".py",
   "mimetype": "text/x-python",
   "name": "python",
   "nbconvert_exporter": "python",
   "pygments_lexer": "ipython3",
   "version": "3.9.18"
  }
 },
 "nbformat": 4,
 "nbformat_minor": 5
}

{
 "cells": [
  {
   "cell_type": "markdown",
   "id": "937d07c4-d4d2-4ebf-9e3c-1414ede4e63e",
   "metadata": {},
   "source": [
    "# Numpy part 1 - working with arrays"
   ]
  },
  {
   "cell_type": "markdown",
   "id": "0b7b034a-f371-4bab-a752-a65dac305ae4",
   "metadata": {},
   "source": [
    "## Prerequsites \n",
    "- Python basics part 1\n",
    "- Python basics part 2"
   ]
  },
  {
   "cell_type": "markdown",
   "id": "47116a25-de06-413e-93e0-3e18746c76c1",
   "metadata": {},
   "source": [
    "## Learning objectives \n",
    "- Import the numpy package\n",
    "- Create data arrays from lists\n",
    "- Generate data arrays using built in numpy functions\n",
    "- Generate arrays of random numbers\n",
    "- Select and slice portions of data arrays"
   ]
  },
  {
   "cell_type": "markdown",
   "id": "04d8b8ab-f4f2-4986-9e88-b615567b72c8",
   "metadata": {},
   "source": [
    "## References\n",
    "- https://wesmckinney.com/book/numpy-basics"
   ]
  },
  {
   "cell_type": "markdown",
   "id": "72a3747a-0128-4395-a233-baa44b2995a0",
   "metadata": {},
   "source": [
    "### Import the numpy package\n",
    "numpy is a python \"package.\"  When you imporport numpy, import _as np_.  Every time you create a numpy object or use a bulit in numpy method, you preface with \"np.\"\n",
    "Import numpy by excuting the code block below"
   ]
  },
  {
   "cell_type": "code",
   "execution_count": 1,
   "id": "0ea343a2-bba8-4417-ba2d-316cce085715",
   "metadata": {},
   "outputs": [],
   "source": [
    "import numpy as np"
   ]
  },
  {
   "cell_type": "markdown",
   "id": "74bb03c5-cbac-4b47-9dc3-4ad883e88020",
   "metadata": {},
   "source": [
    "#### Creating numpy arrays\n",
    "##### Create a numpy array from a list\n",
    "- Verify in the code block below that both of the following give you the same result:\n",
    "  - list_1 = [ 1, 20, 4. 5]\n",
    "  - array_1 = np.array(list_1)\n",
    "- or\n",
    "  - array_1 = np.array([1, 20, 4., 5])\n"
   ]
  },
  {
   "cell_type": "code",
   "execution_count": null,
   "id": "3cb3a0bf-2004-49f2-960d-a1c6b6b25f9c",
   "metadata": {},
   "outputs": [],
   "source": []
  },
  {
   "cell_type": "markdown",
   "id": "88cc4bdc-b47f-4a49-a89e-e56c2e833431",
   "metadata": {},
   "source": [
    "##### Create a multi-dimentional array from lists\n",
    "- Verify in the code block below that both of the following give you an array with two rows and four columns\n",
    "- list_1 = [ 1, 20, 4., 5]\n",
    "- list_2 = [3, 4, 2, 8]\n",
    "- array_2 = np.array([list_1, list_2]) or array_2 = np.array([[ 1, 20, 4., 5], [3, 4, 2, 8]])\n",
    "  - Notice that must put '[]' around list_1, list_2. If not, you'll get error\n",
    "  - experiment with creating multi-dimensional arrays.  Notice you lists must be the same length. Otherwise, you get an error.\n"
   ]
  },
  {
   "cell_type": "code",
   "execution_count": null,
   "id": "2a0f806b-c808-458e-a036-6200e2a0bbde",
   "metadata": {},
   "outputs": [],
   "source": []
  },
  {
   "cell_type": "markdown",
   "id": "dee35747-ef69-469a-af62-c499c6303ae8",
   "metadata": {},
   "source": [
    "##### Create arrays using built-in numpy functions - np.arange()"
   ]
  },
  {
   "cell_type": "markdown",
   "id": "9158cef0-1946-4c78-9665-21c350486012",
   "metadata": {},
   "source": [
    "- The function np.arange(10) will create an array with length of 10 starting with '0'\n",
    "- Try creating arrays of different lengths in the code block below. Notice how the arrays always start with 0, contain integers, increment and terminate _before_ it reaches the number in the argument of the function"
   ]
  },
  {
   "cell_type": "code",
   "execution_count": null,
   "id": "7d246127-3090-44a6-b535-17cce407af0e",
   "metadata": {},
   "outputs": [],
   "source": []
  },
  {
   "cell_type": "markdown",
   "id": "b7005567-634b-4781-b009-c628978748b5",
   "metadata": {},
   "source": [
    "- The function np.arange(1, 10) will create an array that starts with 1 and ends with 9, _Note:_ the array is generated up to, but not including the number '10'\n",
    "- In the code block below, try generating different arrays starting and ending with different numbers\n",
    "\n",
    "  - you can create arrays of non-integer the same way.  Try using some decimals in the first and second arguments\n",
    "  - notice if the first argument is less than the second, you get an empty array. Try np.array(10, 1) and see what happens"
   ]
  },
  {
   "cell_type": "code",
   "execution_count": null,
   "id": "4799c039-dd7f-4362-bb0a-ef12c9a801cd",
   "metadata": {},
   "outputs": [],
   "source": []
  },
  {
   "cell_type": "markdown",
   "id": "0a351517-03ac-47e7-bd45-7420eaf05778",
   "metadata": {},
   "source": [
    "- The function np.arange(0, 10, .1) will create an array starting with 0 that increments by 0.1 up to, but not including, the number '10'\n",
    "    - In the code block below, experiment with arrays of different increments, both decimals and integers"
   ]
  },
  {
   "cell_type": "code",
   "execution_count": null,
   "id": "1dda7f2d-e11c-47d4-bdc5-d7180c2557e5",
   "metadata": {},
   "outputs": [],
   "source": []
  },
  {
   "cell_type": "markdown",
   "id": "940f9155-9ae1-47c7-8323-f17c84e71ffe",
   "metadata": {},
   "source": [
    "##### Create arrays using numpy functions - np.zeros() and np.ones()"
   ]
  },
  {
   "cell_type": "markdown",
   "id": "9b01a8d6-26d4-4999-9b1c-02147e7d226b",
   "metadata": {},
   "source": [
    "- the function np.zeros(10) generates an array of 10 zeros\n",
    "- the function np.zeros([10, 2]) generates an array with 10 rows and two columns, all zeros.\n",
    "- experiment creating arrays of zeros with different lengths and dimensions in the code block below"
   ]
  },
  {
   "cell_type": "code",
   "execution_count": null,
   "id": "af54c5fa-53a2-4122-8283-5e803af40053",
   "metadata": {},
   "outputs": [],
   "source": []
  },
  {
   "cell_type": "markdown",
   "id": "1d69dc1b-ab83-4f98-80ae-53a816a2985b",
   "metadata": {},
   "source": [
    "- the function np.ones(10) generates an array 10 ones\n",
    "- the function np.ones([10, 2]) generates an array with 10 rows and two columns, all with the number 1\n",
    "- experiment creating arrays of ones with different lengths and dimensions in the code block below"
   ]
  },
  {
   "cell_type": "code",
   "execution_count": null,
   "id": "7380efee-9336-4a4d-a323-83e821377957",
   "metadata": {},
   "outputs": [],
   "source": []
  },
  {
   "cell_type": "markdown",
   "id": "9a281b3e-98a8-4dd2-8056-dba2cfcdb7e5",
   "metadata": {},
   "source": [
    "##### Create arrays of random integers - np.random.randint()\n",
    "- the function np.random.randint(10) returns a random integer uniformly drawn between 0 and 10.  _Note_ The maximum possible number returned is 9.\n",
    "- the function np.random.randint(1,high=7) returns a random integer uniformly drawn between 1 and 7. The highest integer returned is 6.\n",
    "- the function np.random.randint(1,high=7, size=(5,3)) returns an array with 5 rows and 3 columns each with a random numer between 1 and 7. - experiment with creating random integers of arrays of varying sizes.  Confirm that the 'high' values are never drawn.\n"
   ]
  },
  {
   "cell_type": "code",
   "execution_count": null,
   "id": "834cee05-21f8-419d-931b-6aad3266db2a",
   "metadata": {},
   "outputs": [],
   "source": []
  },
  {
   "cell_type": "markdown",
   "id": "d19bae14-666d-449d-972e-173dd4344ce2",
   "metadata": {},
   "source": [
    "##### Create arrays of random numbers - np.random. ... \n",
    "- the function np.random.random() returns a (psuedo)random number drawn from a uniform distribution ranging between 0 and 1\n",
    "    - np.random.random(size=(4, 3)) returns a an array with 4 rows and 3 columns, each with a random number drawn from a uniform distribution ranging between 0 and 1\n",
    "- np.random.standard_normal(size=(2,2)) returns an array with 2 rows and 2 columns each with a random number drawn from a standard normal distribution. _Recall_: a standard normal distribution is a normal distribution with mean 0 and standard deviation = 1).\n",
    "- np.random.normal(loc=4, scale=5, size=(3, 5)) returns an array with 3 rows and 5 columns each with a random number drawn from a normal distribution with mean = 4 and standard deviation = 5.\n",
    "- Experiment with creating arrays of different sizes with random numbers draws from uniform and normal distributions.  If you want only one number, do not specify the size.\n",
    "  - enter np.random? in the code block below to learn more about the different distributions you could choose\n"
   ]
  },
  {
   "cell_type": "code",
   "execution_count": null,
   "id": "0b77ccef-8e26-4a90-9ef2-e7303e492d2f",
   "metadata": {},
   "outputs": [],
   "source": []
  },
  {
   "cell_type": "markdown",
   "id": "ec33fb7a-682c-4735-814b-933215090654",
   "metadata": {},
   "source": [
    "### Size and shape of numpy arrays"
   ]
  },
  {
   "cell_type": "code",
   "execution_count": 2,
   "id": "7a46d872-88aa-4974-8de9-09c9e8b1a881",
   "metadata": {},
   "outputs": [
    {
     "data": {
      "text/plain": [
       "array([[ 1,  2,  3,  4],\n",
       "       [ 7,  8,  9, 10],\n",
       "       [ 4,  5,  6, 12]])"
      ]
     },
     "execution_count": 2,
     "metadata": {},
     "output_type": "execute_result"
    }
   ],
   "source": [
    "# run this code block to create the example array called 'sta' (stands for slice-test-array)\n",
    "# notice the array prints below the code block\n",
    "sta = np.array([[1, 2, 3, 4], [7, 8, 9, 10], [4, 5, 6, 12]])\n",
    "sta"
   ]
  },
  {
   "cell_type": "markdown",
   "id": "414e70e9-4db0-4157-8239-b90e9446cf15",
   "metadata": {},
   "source": [
    "- The numpy function np.size(sta) returns the number of elements in the array.\n",
    "    - This returns the number of elements without regard to the number of rows and columns  \n",
    "- the function len(sta) returns the number of rows in the array, not the number of elements.\n",
    "- The numpy function np.shape(sta) returns a tuple with the rows and columns of the array sta\n",
    "- In the code block below, experiment with np.size(), np.shape(), and len()\n",
    "    - create some new arrays with different names and check sizes and shapes "
   ]
  },
  {
   "cell_type": "code",
   "execution_count": null,
   "id": "00d9dedb-ad82-47a1-bdb1-1b9471122609",
   "metadata": {},
   "outputs": [],
   "source": []
  },
  {
   "cell_type": "markdown",
   "id": "5b815982-d50b-416b-a3c1-369e20ebb3b1",
   "metadata": {},
   "source": [
    "### Selecting, indexing, and slicing numpy arrays\n",
    "#### selecting ranges of arrays\n",
    "- Use square brackets '[]' when selecting elements of an array\n",
    "- Use a ':' to indicate a range of values.  A ':' on its own means take a whole row or column.\n",
    "- The first row or column is indexed with a '0', the last row or column is indexed with '-1'\n",
    "- sta[0,0] returns the first row and first column of sta\n",
    "- sta[0,], sta[0,:], sta[0:1] all return the first row and all columns of sta.\n",
    "- sta[0:2], sta[0:2,] sta[0:2,:] all return the first _two_ rows and all columns of sta.\n",
    "- sta[1:3, 2:4] retuns the 2nd and 3rd row of sta and the 3rd and 4th columns.\n",
    "- sta[1:-1, -1] returns the 2nd row and all rows after it (regardless of how many) and the last column of sta \n",
    "- experiment with indexing in the code block below.  What would you enter to get the 1st and second row and 2nd and 3rd columns?"
   ]
  },
  {
   "cell_type": "code",
   "execution_count": null,
   "id": "642bc4d7-b923-4ce9-9645-b82ae1d8f3ce",
   "metadata": {},
   "outputs": [],
   "source": []
  },
  {
   "cell_type": "markdown",
   "id": "21af2c56-ba42-4088-b04a-1b1aecc24d38",
   "metadata": {},
   "source": [
    "#### selecting specific rows and columns\n",
    "- sta[[0,2],[0,3]] returns elements in the 1st and 3rd row and the 1st and 4th columns.\n",
    "- experiement creating lists of rows and lists of columns below"
   ]
  },
  {
   "cell_type": "code",
   "execution_count": null,
   "id": "28370605-ee36-4c76-8a86-f0823667288d",
   "metadata": {},
   "outputs": [],
   "source": []
  },
  {
   "cell_type": "markdown",
   "id": "40a6dfe8-b0ea-489e-8cc2-26db53aeacc5",
   "metadata": {},
   "source": [
    "#### selecting rows and columns conditional on values\n",
    "- sta >4 returns an array with the same size and shape as sta with \"True\" in the places where elements are greater than 4 and \"False\" where they are not.\n",
    "- sta[sta > 4] returns a one-dimensional array with all the elements for sta that are greater than 4\n",
    "- Try >=  for greater than or equal to, <= for less than or equal to, == for equal to, < for less than, > for greater than.\n",
    "- Experiment below"
   ]
  },
  {
   "cell_type": "code",
   "execution_count": null,
   "id": "5463d2c2-2f16-42b7-920b-6d748736e15a",
   "metadata": {},
   "outputs": [],
   "source": []
  },
  {
   "cell_type": "markdown",
   "id": "ad12a11a-615f-4763-add7-258e8eec9272",
   "metadata": {},
   "source": [
    "### Up next\n",
    "- Mathematical operations with Numpy"
   ]
  },
  {
   "cell_type": "code",
   "execution_count": null,
   "id": "bc9fbd45-ba95-43d3-b0e9-81d890b585ef",
   "metadata": {},
   "outputs": [],
   "source": []
  }
 ],
 "metadata": {
  "kernelspec": {
   "display_name": "Python 3 (ipykernel)",
   "language": "python",
   "name": "python3"
  },
  "language_info": {
   "codemirror_mode": {
    "name": "ipython",
    "version": 3
   },
   "file_extension": ".py",
   "mimetype": "text/x-python",
   "name": "python",
   "nbconvert_exporter": "python",
   "pygments_lexer": "ipython3",
   "version": "3.9.18"
  }
 },
 "nbformat": 4,
 "nbformat_minor": 5
}
